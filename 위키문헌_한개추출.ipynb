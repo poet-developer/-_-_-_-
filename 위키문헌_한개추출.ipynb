{
  "nbformat": 4,
  "nbformat_minor": 0,
  "metadata": {
    "colab": {
      "provenance": [],
      "include_colab_link": true
    },
    "kernelspec": {
      "name": "python3",
      "display_name": "Python 3"
    },
    "language_info": {
      "name": "python"
    }
  },
  "cells": [
    {
      "cell_type": "markdown",
      "metadata": {
        "id": "view-in-github",
        "colab_type": "text"
      },
      "source": [
        "<a href=\"https://colab.research.google.com/github/poet-developer/getPoemLineData_with-wikisource/blob/main/%EC%9C%84%ED%82%A4%EB%AC%B8%ED%97%8C_%ED%95%9C%EA%B0%9C%EC%B6%94%EC%B6%9C.ipynb\" target=\"_parent\"><img src=\"https://colab.research.google.com/assets/colab-badge.svg\" alt=\"Open In Colab\"/></a>"
      ]
    },
    {
      "cell_type": "markdown",
      "source": [
        "# 위키문헌(Wikisource) XML파일 처리"
      ],
      "metadata": {
        "id": "drLQ4PFuxBAo"
      }
    },
    {
      "cell_type": "code",
      "source": [
        "pip install -q wikiextractor gdown"
      ],
      "metadata": {
        "id": "Q7FNIJy6xBb6"
      },
      "execution_count": 18,
      "outputs": []
    },
    {
      "cell_type": "code",
      "source": [
        "# 필요 패키지 load\n",
        "import pandas as pd\n",
        "from tqdm import tqdm\n",
        "tqdm.pandas()\n",
        "# import gutenbergpy.textget\n",
        "from pprint import pprint\n",
        "import gdown\n",
        "from collections import Counter\n",
        "from itertools import chain"
      ],
      "metadata": {
        "id": "gVDGJ04xxN08"
      },
      "execution_count": 19,
      "outputs": []
    },
    {
      "cell_type": "markdown",
      "source": [
        "### 위키문헌 (wikisource)\n",
        "https://dumps.wikimedia.org/kowikisource/20240901/  \n",
        "참고문헌 : 서재현, 김병준, 김민우 and 박소정. (2021). 멀리서 읽는 “우리”― Word2Vec, N-gram을 이용한 근대 소설 텍스트 분석. 대동문화연구, 115, 349-386."
      ],
      "metadata": {
        "id": "gpoFZcM1vp-y"
      }
    },
    {
      "cell_type": "markdown",
      "source": [
        "##### 위키문헌 전처리"
      ],
      "metadata": {
        "id": "qgRZeI6n1R2t"
      }
    },
    {
      "cell_type": "code",
      "source": [
        "# 위키문헌 xml 원본 파일 다운로드\n",
        "# https://dumps.wikimedia.org/kowikisource/20240901/kowikisource-20240901-pages-articles.xml.bz2\n",
        "!wget https://dumps.wikimedia.org/kowikisource/20241101/kowikisource-20241101-pages-articles.xml.bz2"
      ],
      "metadata": {
        "id": "-GmI9Pc7y5tJ",
        "colab": {
          "base_uri": "https://localhost:8080/"
        },
        "outputId": "364f480d-5fae-49cd-fe29-1c075014df97"
      },
      "execution_count": 20,
      "outputs": [
        {
          "output_type": "stream",
          "name": "stdout",
          "text": [
            "--2024-11-19 11:32:29--  https://dumps.wikimedia.org/kowikisource/20241101/kowikisource-20241101-pages-articles.xml.bz2\n",
            "Resolving dumps.wikimedia.org (dumps.wikimedia.org)... 208.80.154.71, 2620:0:861:3:208:80:154:71\n",
            "Connecting to dumps.wikimedia.org (dumps.wikimedia.org)|208.80.154.71|:443... connected.\n",
            "HTTP request sent, awaiting response... 200 OK\n",
            "Length: 151135574 (144M) [application/octet-stream]\n",
            "Saving to: ‘kowikisource-20241101-pages-articles.xml.bz2.1’\n",
            "\n",
            "kowikisource-202411 100%[===================>] 144.13M  4.31MB/s    in 34s     \n",
            "\n",
            "2024-11-19 11:33:03 (4.30 MB/s) - ‘kowikisource-20241101-pages-articles.xml.bz2.1’ saved [151135574/151135574]\n",
            "\n"
          ]
        }
      ]
    },
    {
      "cell_type": "code",
      "execution_count": 21,
      "metadata": {
        "id": "0O1-IqBdxZWi",
        "colab": {
          "base_uri": "https://localhost:8080/"
        },
        "outputId": "fca35bb7-0424-4898-88bc-cd673d63db45"
      },
      "outputs": [
        {
          "output_type": "stream",
          "name": "stdout",
          "text": [
            "INFO: Preprocessing 'kowikisource-20241101-pages-articles.xml.bz2' to collect template definitions: this may take some time.\n",
            "INFO: Loaded 1242 templates in 72.9s\n",
            "INFO: Starting page extraction from kowikisource-20241101-pages-articles.xml.bz2.\n",
            "INFO: Using 1 extract processes.\n",
            "INFO: Finished 1-process extraction of 37057 articles in 156.5s (236.8 art/s)\n"
          ]
        }
      ],
      "source": [
        "# Parsing (3분 가량 걸림)\n",
        "!python -m wikiextractor.WikiExtractor kowikisource-20241101-pages-articles.xml.bz2"
      ]
    },
    {
      "cell_type": "code",
      "execution_count": 22,
      "metadata": {
        "id": "nHIFyh_hxZWj"
      },
      "outputs": [],
      "source": [
        "# 파싱한 파일을 하나의 xml로 합치기\n",
        "!cat text/*/* > kowikisource.xml"
      ]
    },
    {
      "cell_type": "code",
      "execution_count": 23,
      "metadata": {
        "id": "rprxLloPxZWj"
      },
      "outputs": [],
      "source": [
        "# 맨위에 추가\n",
        "!echo \"$(echo -n -e '<?xml version=\"1.0\" encoding=\"UTF-8\"?>\\n<wikisource>\\n'; cat kowikisource.xml)\" > kowikisource.xml"
      ]
    },
    {
      "cell_type": "code",
      "execution_count": 24,
      "metadata": {
        "id": "Rk2c3ZM8xZWj",
        "colab": {
          "base_uri": "https://localhost:8080/"
        },
        "outputId": "cf51b30a-ff0a-4091-f26d-0aaf617300ae"
      },
      "outputs": [
        {
          "output_type": "stream",
          "name": "stdout",
          "text": [
            "<?xml version=\"1.0\" encoding=\"UTF-8\"?>\n",
            "<wikisource>\n",
            "<doc id=\"1\" url=\"https://ko.wikisource.org/wiki?curid=1\" title=\"애국가 (대한민국)\">\n",
            "애국가 (대한민국)\n",
            "\n",
            "한자 혼용\n",
            "한글\n",
            "\n",
            "</doc>\n",
            "<doc id=\"2\" url=\"https://ko.wikisource.org/wiki?curid=2\" title=\"대한민국헌법 (한자혼용)\">\n",
            "대한민국헌법 (한자혼용)\n",
            "\n",
            "\n",
            "\n",
            "</doc>\n",
            "<doc id=\"3\" url=\"https://ko.wikisource.org/wiki?curid=3\" title=\"조선민주주의인민공화국 사회주의헌법\">\n",
            "조선민주주의인민공화국 사회주의헌법\n",
            "\n",
            "서문.\n",
            "조선민주주의인민공화국은 위대한 김일성동지와 김정일동지의 사상과 령도를 구현한 주체의 사회주의조국이다.\n"
          ]
        }
      ],
      "source": [
        "!head -n 20 kowikisource.xml # 첫 20줄만 확인"
      ]
    },
    {
      "cell_type": "code",
      "execution_count": 25,
      "metadata": {
        "id": "-y4nAvUGxZWk"
      },
      "outputs": [],
      "source": [
        "# 맨 아랫줄에 추가\n",
        "!echo '</wikisource>' >> kowikisource.xml"
      ]
    },
    {
      "cell_type": "code",
      "execution_count": 26,
      "metadata": {
        "id": "jBD6FKEGxZWk",
        "colab": {
          "base_uri": "https://localhost:8080/"
        },
        "outputId": "6b7b9d50-b0e4-4685-ff94-cfdc4a79af3c"
      },
      "outputs": [
        {
          "output_type": "stream",
          "name": "stdout",
          "text": [
            "\n",
            "\n",
            "</doc>\n",
            "<doc id=\"93454\" url=\"https://ko.wikisource.org/wiki?curid=93454\" title=\"에티카 (스피노자)\">\n",
            "에티카 (스피노자)\n",
            "\n",
            "\n",
            "\n",
            "</doc>\n",
            "</wikisource>\n"
          ]
        }
      ],
      "source": [
        "!tail kowikisource.xml # 마지막줄 확인"
      ]
    },
    {
      "cell_type": "markdown",
      "source": [
        "##### 위키문헌 작가의 시 행 추출"
      ],
      "metadata": {
        "id": "77tRo2aq1UGZ"
      }
    },
    {
      "cell_type": "code",
      "source": [
        "# xml 파일 dataframe로 읽기\n",
        "df = pd.read_xml('./kowikisource.xml')"
      ],
      "metadata": {
        "id": "d_av3Pg7vtqQ",
        "collapsed": true
      },
      "execution_count": 49,
      "outputs": []
    },
    {
      "cell_type": "markdown",
      "source": [
        "### 분리 행 추출 함수(getPoemLines)"
      ],
      "metadata": {
        "id": "5va0odgyPqzS"
      }
    },
    {
      "cell_type": "code",
      "source": [
        "def process_getPoemLines(data):\n",
        "    # 불필요한 인자 제거\n",
        "    filtered_list = [item for item in data if item not in [None, \"\", \" \", [], {}, '<poem>', '</poem>', '진달래꽃 (시집)/']]\n",
        "\n",
        "    # 제목 편집 (0번 인자 수정)\n",
        "    pick_title = filtered_list[0].split('/')\n",
        "    pick_title = pick_title[1] if len(pick_title) > 1 else filtered_list[0]\n",
        "    filtered_list[0] = pick_title\n",
        "\n",
        "    # 'title'은 첫 번째 인자, '본문'은 나머지 인자들\n",
        "    title = filtered_list[0]\n",
        "    body = filtered_list[1:]\n",
        "\n",
        "    # DataFrame 생성: 본문 열이 먼저 오도록\n",
        "    df = pd.DataFrame({'본문': body, '제목': [title] * len(body)})\n",
        "\n",
        "    return df"
      ],
      "metadata": {
        "id": "J2a6fuKuYHge"
      },
      "execution_count": 28,
      "outputs": []
    },
    {
      "cell_type": "markdown",
      "source": [
        "### 시 전체 추출 함수(getPoemLines)"
      ],
      "metadata": {
        "id": "0w-q00J8PxC4"
      }
    },
    {
      "cell_type": "code",
      "source": [
        "def process_getFullPoemLines(data):\n",
        "    # 불필요한 인자 제거\n",
        "    cleaned_text = data.replace('<poem>', '').replace('</poem>', '').strip()\n",
        "    # 텍스트를 줄 단위로 나누기\n",
        "    lines = cleaned_text.strip().split('\\n')\n",
        "    title = lines[0]  # 첫 줄은 제목\n",
        "    body = '\\n'.join(lines[1:])  # 나머지는 본문\n",
        "\n",
        "    # DataFrame 생성\n",
        "    df = pd.DataFrame({'제목': [title], '본문': [body]})\n",
        "\n",
        "    return df"
      ],
      "metadata": {
        "id": "oJQfTDu26pJZ"
      },
      "execution_count": 46,
      "outputs": []
    },
    {
      "cell_type": "markdown",
      "source": [
        "### 검색 데이터를 가지고 특정 시 행마다 추출(update_results_with_title)"
      ],
      "metadata": {
        "id": "VRjb2QqFPzxT"
      }
    },
    {
      "cell_type": "code",
      "source": [
        "def getOnlyOneresult_with_title(df, results_df, process_function, title_to_search, author, index):\n",
        "    # 제목에 해당하는 텍스트 검색\n",
        "    title_to_search.replace(\"_\", \" \")\n",
        "    filtered_text = df[df['title'].str.contains(title_to_search, na=False)]\n",
        "    if filtered_text.empty:\n",
        "        raise ValueError(f\"'{title_to_search}'에 해당하는 데이터가 없습니다.\")\n",
        "\n",
        "    # 'doc' 값 추출\n",
        "    text_value = filtered_text.iloc[index]['doc']\n",
        "\n",
        "    # 텍스트 처리\n",
        "    processed_result = process_function(text_value.split('\\n'))\n",
        "\n",
        "    # 처리 결과를 기존 DataFrame에 추가\n",
        "    updated_results = pd.concat([results_df, pd.DataFrame(processed_result)], ignore_index=True)\n",
        "\n",
        "    # 새로운 열 추가 (고정된 값)\n",
        "    updated_results['저자'] = author\n",
        "\n",
        "    return updated_results"
      ],
      "metadata": {
        "id": "BZNzYANJyCs-"
      },
      "execution_count": 29,
      "outputs": []
    },
    {
      "cell_type": "markdown",
      "source": [
        "### 검색 데이터를 가지고 특정 시 전체 추출(update results for FullText)"
      ],
      "metadata": {
        "id": "p4W0G1XfP_-0"
      }
    },
    {
      "cell_type": "code",
      "source": [
        "def getOnlyOneFullTextresult_with_title(df, results_df, process_function, title_to_search, author, index):\n",
        "    # 제목에 해당하는 텍스트 검색\n",
        "    title_to_search.replace(\"_\", \" \")\n",
        "    filtered_text = df[df['title'].str.contains(title_to_search, na=False)]\n",
        "    if filtered_text.empty:\n",
        "        raise ValueError(f\"'{title_to_search}'에 해당하는 데이터가 없습니다.\")\n",
        "\n",
        "    # # 'doc' 값 추출\n",
        "    full_text_value = filtered_text.iloc[index]['doc']\n",
        "\n",
        "    # # 텍스트 처리\n",
        "    processed_result = process_function(full_text_value)\n",
        "\n",
        "    # # 처리 결과를 기존 DataFrame에 추가\n",
        "    updated_results = pd.concat([results_df, pd.DataFrame(processed_result)], ignore_index=True)\n",
        "    # 새로운 열 추가 (고정된 값)\n",
        "    updated_results['저자'] = author\n",
        "\n",
        "    return updated_results"
      ],
      "metadata": {
        "id": "NOpNCF2QM6yl"
      },
      "execution_count": 35,
      "outputs": []
    },
    {
      "cell_type": "code",
      "source": [
        "#검색하고자 하는 제목과 자료 순서 입력.\n",
        "title = '님의 침묵'\n",
        "index = 0\n",
        "author = '한용운'\n",
        "#바르게 검색되었는지 확인.\n",
        "check = df[df['title'].str.contains(title)]\n",
        "check"
      ],
      "metadata": {
        "colab": {
          "base_uri": "https://localhost:8080/",
          "height": 597
        },
        "id": "Ntpt5Dbe9fUW",
        "outputId": "322b5567-44b2-49a2-eefe-ec1197a283d1",
        "collapsed": true
      },
      "execution_count": 32,
      "outputs": [
        {
          "output_type": "execute_result",
          "data": {
            "text/plain": [
              "          id                                         url             title  \\\n",
              "30      1362   https://ko.wikisource.org/wiki?curid=1362         님의 침묵/가갸날   \n",
              "59      1513   https://ko.wikisource.org/wiki?curid=1513       님의 침묵/님의 침묵   \n",
              "68      1526   https://ko.wikisource.org/wiki?curid=1526     님의 침묵/나룻배와 행인   \n",
              "281     2239   https://ko.wikisource.org/wiki?curid=2239        한용운의 님의 침묵   \n",
              "614     3646   https://ko.wikisource.org/wiki?curid=3646     님의 침묵/알 수 없어요   \n",
              "...      ...                                         ...               ...   \n",
              "9899   25036  https://ko.wikisource.org/wiki?curid=25036          님의 침묵/요술   \n",
              "9900   25037  https://ko.wikisource.org/wiki?curid=25037    님의 침묵/여름밤이 길어요   \n",
              "9901   25038  https://ko.wikisource.org/wiki?curid=25038          님의 침묵/칠석   \n",
              "9902   25039  https://ko.wikisource.org/wiki?curid=25039         님의 침묵/오셔요   \n",
              "27300  53964  https://ko.wikisource.org/wiki?curid=53964  님의 침묵/하나가 되어 주세요   \n",
              "\n",
              "                                                     doc  \n",
              "30     \\n님의 침묵/가갸날\\n\\n<poem>\\n아아, 가갸날\\n참되고 어질고 아름다와요\\...  \n",
              "59     \\n님의 침묵/님의 침묵\\n\\n원문.\\n<poem>\\n님은 갓슴니다 아々 사랑하는나...  \n",
              "68     \\n님의 침묵/나룻배와 행인\\n\\n<poem>\\n나는 나룻배 \\n당신은 行人\\n당신...  \n",
              "281                                 \\n한용운의 님의 침묵\\n\\n\\n\\n  \n",
              "614    \\n님의 침묵/알 수 없어요\\n\\n원문.\\n<poem>\\n바람도업는공중에 垂直의波紋...  \n",
              "...                                                  ...  \n",
              "9899   \\n님의 침묵/요술\\n\\n<poem>\\n가을 洪水가 작은 시내의 쌓인 落葉을 휩쓸어...  \n",
              "9900   \\n님의 침묵/여름밤이 길어요\\n\\n<poem>\\n당신이 계실 때에는 겨울밤이 짧더...  \n",
              "9901   \\n님의 침묵/칠석\\n\\n<poem>\\n「차라리 님이 없이 스스로 님이 되고 살지언...  \n",
              "9902   \\n님의 침묵/오셔요\\n\\n<poem>\\n오셔요 당신은 오실 때가 되었어요 어서 오...  \n",
              "27300                         \\n님의 침묵/하나가 되어 주세요\\n\\n\\n\\n  \n",
              "\n",
              "[96 rows x 4 columns]"
            ],
            "text/html": [
              "\n",
              "  <div id=\"df-9af25778-7e15-4fef-82d3-849a89cb2948\" class=\"colab-df-container\">\n",
              "    <div>\n",
              "<style scoped>\n",
              "    .dataframe tbody tr th:only-of-type {\n",
              "        vertical-align: middle;\n",
              "    }\n",
              "\n",
              "    .dataframe tbody tr th {\n",
              "        vertical-align: top;\n",
              "    }\n",
              "\n",
              "    .dataframe thead th {\n",
              "        text-align: right;\n",
              "    }\n",
              "</style>\n",
              "<table border=\"1\" class=\"dataframe\">\n",
              "  <thead>\n",
              "    <tr style=\"text-align: right;\">\n",
              "      <th></th>\n",
              "      <th>id</th>\n",
              "      <th>url</th>\n",
              "      <th>title</th>\n",
              "      <th>doc</th>\n",
              "    </tr>\n",
              "  </thead>\n",
              "  <tbody>\n",
              "    <tr>\n",
              "      <th>30</th>\n",
              "      <td>1362</td>\n",
              "      <td>https://ko.wikisource.org/wiki?curid=1362</td>\n",
              "      <td>님의 침묵/가갸날</td>\n",
              "      <td>\\n님의 침묵/가갸날\\n\\n&lt;poem&gt;\\n아아, 가갸날\\n참되고 어질고 아름다와요\\...</td>\n",
              "    </tr>\n",
              "    <tr>\n",
              "      <th>59</th>\n",
              "      <td>1513</td>\n",
              "      <td>https://ko.wikisource.org/wiki?curid=1513</td>\n",
              "      <td>님의 침묵/님의 침묵</td>\n",
              "      <td>\\n님의 침묵/님의 침묵\\n\\n원문.\\n&lt;poem&gt;\\n님은 갓슴니다 아々 사랑하는나...</td>\n",
              "    </tr>\n",
              "    <tr>\n",
              "      <th>68</th>\n",
              "      <td>1526</td>\n",
              "      <td>https://ko.wikisource.org/wiki?curid=1526</td>\n",
              "      <td>님의 침묵/나룻배와 행인</td>\n",
              "      <td>\\n님의 침묵/나룻배와 행인\\n\\n&lt;poem&gt;\\n나는 나룻배 \\n당신은 行人\\n당신...</td>\n",
              "    </tr>\n",
              "    <tr>\n",
              "      <th>281</th>\n",
              "      <td>2239</td>\n",
              "      <td>https://ko.wikisource.org/wiki?curid=2239</td>\n",
              "      <td>한용운의 님의 침묵</td>\n",
              "      <td>\\n한용운의 님의 침묵\\n\\n\\n\\n</td>\n",
              "    </tr>\n",
              "    <tr>\n",
              "      <th>614</th>\n",
              "      <td>3646</td>\n",
              "      <td>https://ko.wikisource.org/wiki?curid=3646</td>\n",
              "      <td>님의 침묵/알 수 없어요</td>\n",
              "      <td>\\n님의 침묵/알 수 없어요\\n\\n원문.\\n&lt;poem&gt;\\n바람도업는공중에 垂直의波紋...</td>\n",
              "    </tr>\n",
              "    <tr>\n",
              "      <th>...</th>\n",
              "      <td>...</td>\n",
              "      <td>...</td>\n",
              "      <td>...</td>\n",
              "      <td>...</td>\n",
              "    </tr>\n",
              "    <tr>\n",
              "      <th>9899</th>\n",
              "      <td>25036</td>\n",
              "      <td>https://ko.wikisource.org/wiki?curid=25036</td>\n",
              "      <td>님의 침묵/요술</td>\n",
              "      <td>\\n님의 침묵/요술\\n\\n&lt;poem&gt;\\n가을 洪水가 작은 시내의 쌓인 落葉을 휩쓸어...</td>\n",
              "    </tr>\n",
              "    <tr>\n",
              "      <th>9900</th>\n",
              "      <td>25037</td>\n",
              "      <td>https://ko.wikisource.org/wiki?curid=25037</td>\n",
              "      <td>님의 침묵/여름밤이 길어요</td>\n",
              "      <td>\\n님의 침묵/여름밤이 길어요\\n\\n&lt;poem&gt;\\n당신이 계실 때에는 겨울밤이 짧더...</td>\n",
              "    </tr>\n",
              "    <tr>\n",
              "      <th>9901</th>\n",
              "      <td>25038</td>\n",
              "      <td>https://ko.wikisource.org/wiki?curid=25038</td>\n",
              "      <td>님의 침묵/칠석</td>\n",
              "      <td>\\n님의 침묵/칠석\\n\\n&lt;poem&gt;\\n「차라리 님이 없이 스스로 님이 되고 살지언...</td>\n",
              "    </tr>\n",
              "    <tr>\n",
              "      <th>9902</th>\n",
              "      <td>25039</td>\n",
              "      <td>https://ko.wikisource.org/wiki?curid=25039</td>\n",
              "      <td>님의 침묵/오셔요</td>\n",
              "      <td>\\n님의 침묵/오셔요\\n\\n&lt;poem&gt;\\n오셔요 당신은 오실 때가 되었어요 어서 오...</td>\n",
              "    </tr>\n",
              "    <tr>\n",
              "      <th>27300</th>\n",
              "      <td>53964</td>\n",
              "      <td>https://ko.wikisource.org/wiki?curid=53964</td>\n",
              "      <td>님의 침묵/하나가 되어 주세요</td>\n",
              "      <td>\\n님의 침묵/하나가 되어 주세요\\n\\n\\n\\n</td>\n",
              "    </tr>\n",
              "  </tbody>\n",
              "</table>\n",
              "<p>96 rows × 4 columns</p>\n",
              "</div>\n",
              "    <div class=\"colab-df-buttons\">\n",
              "\n",
              "  <div class=\"colab-df-container\">\n",
              "    <button class=\"colab-df-convert\" onclick=\"convertToInteractive('df-9af25778-7e15-4fef-82d3-849a89cb2948')\"\n",
              "            title=\"Convert this dataframe to an interactive table.\"\n",
              "            style=\"display:none;\">\n",
              "\n",
              "  <svg xmlns=\"http://www.w3.org/2000/svg\" height=\"24px\" viewBox=\"0 -960 960 960\">\n",
              "    <path d=\"M120-120v-720h720v720H120Zm60-500h600v-160H180v160Zm220 220h160v-160H400v160Zm0 220h160v-160H400v160ZM180-400h160v-160H180v160Zm440 0h160v-160H620v160ZM180-180h160v-160H180v160Zm440 0h160v-160H620v160Z\"/>\n",
              "  </svg>\n",
              "    </button>\n",
              "\n",
              "  <style>\n",
              "    .colab-df-container {\n",
              "      display:flex;\n",
              "      gap: 12px;\n",
              "    }\n",
              "\n",
              "    .colab-df-convert {\n",
              "      background-color: #E8F0FE;\n",
              "      border: none;\n",
              "      border-radius: 50%;\n",
              "      cursor: pointer;\n",
              "      display: none;\n",
              "      fill: #1967D2;\n",
              "      height: 32px;\n",
              "      padding: 0 0 0 0;\n",
              "      width: 32px;\n",
              "    }\n",
              "\n",
              "    .colab-df-convert:hover {\n",
              "      background-color: #E2EBFA;\n",
              "      box-shadow: 0px 1px 2px rgba(60, 64, 67, 0.3), 0px 1px 3px 1px rgba(60, 64, 67, 0.15);\n",
              "      fill: #174EA6;\n",
              "    }\n",
              "\n",
              "    .colab-df-buttons div {\n",
              "      margin-bottom: 4px;\n",
              "    }\n",
              "\n",
              "    [theme=dark] .colab-df-convert {\n",
              "      background-color: #3B4455;\n",
              "      fill: #D2E3FC;\n",
              "    }\n",
              "\n",
              "    [theme=dark] .colab-df-convert:hover {\n",
              "      background-color: #434B5C;\n",
              "      box-shadow: 0px 1px 3px 1px rgba(0, 0, 0, 0.15);\n",
              "      filter: drop-shadow(0px 1px 2px rgba(0, 0, 0, 0.3));\n",
              "      fill: #FFFFFF;\n",
              "    }\n",
              "  </style>\n",
              "\n",
              "    <script>\n",
              "      const buttonEl =\n",
              "        document.querySelector('#df-9af25778-7e15-4fef-82d3-849a89cb2948 button.colab-df-convert');\n",
              "      buttonEl.style.display =\n",
              "        google.colab.kernel.accessAllowed ? 'block' : 'none';\n",
              "\n",
              "      async function convertToInteractive(key) {\n",
              "        const element = document.querySelector('#df-9af25778-7e15-4fef-82d3-849a89cb2948');\n",
              "        const dataTable =\n",
              "          await google.colab.kernel.invokeFunction('convertToInteractive',\n",
              "                                                    [key], {});\n",
              "        if (!dataTable) return;\n",
              "\n",
              "        const docLinkHtml = 'Like what you see? Visit the ' +\n",
              "          '<a target=\"_blank\" href=https://colab.research.google.com/notebooks/data_table.ipynb>data table notebook</a>'\n",
              "          + ' to learn more about interactive tables.';\n",
              "        element.innerHTML = '';\n",
              "        dataTable['output_type'] = 'display_data';\n",
              "        await google.colab.output.renderOutput(dataTable, element);\n",
              "        const docLink = document.createElement('div');\n",
              "        docLink.innerHTML = docLinkHtml;\n",
              "        element.appendChild(docLink);\n",
              "      }\n",
              "    </script>\n",
              "  </div>\n",
              "\n",
              "\n",
              "<div id=\"df-406cadd0-50cf-4715-aea7-f8aeaf909124\">\n",
              "  <button class=\"colab-df-quickchart\" onclick=\"quickchart('df-406cadd0-50cf-4715-aea7-f8aeaf909124')\"\n",
              "            title=\"Suggest charts\"\n",
              "            style=\"display:none;\">\n",
              "\n",
              "<svg xmlns=\"http://www.w3.org/2000/svg\" height=\"24px\"viewBox=\"0 0 24 24\"\n",
              "     width=\"24px\">\n",
              "    <g>\n",
              "        <path d=\"M19 3H5c-1.1 0-2 .9-2 2v14c0 1.1.9 2 2 2h14c1.1 0 2-.9 2-2V5c0-1.1-.9-2-2-2zM9 17H7v-7h2v7zm4 0h-2V7h2v10zm4 0h-2v-4h2v4z\"/>\n",
              "    </g>\n",
              "</svg>\n",
              "  </button>\n",
              "\n",
              "<style>\n",
              "  .colab-df-quickchart {\n",
              "      --bg-color: #E8F0FE;\n",
              "      --fill-color: #1967D2;\n",
              "      --hover-bg-color: #E2EBFA;\n",
              "      --hover-fill-color: #174EA6;\n",
              "      --disabled-fill-color: #AAA;\n",
              "      --disabled-bg-color: #DDD;\n",
              "  }\n",
              "\n",
              "  [theme=dark] .colab-df-quickchart {\n",
              "      --bg-color: #3B4455;\n",
              "      --fill-color: #D2E3FC;\n",
              "      --hover-bg-color: #434B5C;\n",
              "      --hover-fill-color: #FFFFFF;\n",
              "      --disabled-bg-color: #3B4455;\n",
              "      --disabled-fill-color: #666;\n",
              "  }\n",
              "\n",
              "  .colab-df-quickchart {\n",
              "    background-color: var(--bg-color);\n",
              "    border: none;\n",
              "    border-radius: 50%;\n",
              "    cursor: pointer;\n",
              "    display: none;\n",
              "    fill: var(--fill-color);\n",
              "    height: 32px;\n",
              "    padding: 0;\n",
              "    width: 32px;\n",
              "  }\n",
              "\n",
              "  .colab-df-quickchart:hover {\n",
              "    background-color: var(--hover-bg-color);\n",
              "    box-shadow: 0 1px 2px rgba(60, 64, 67, 0.3), 0 1px 3px 1px rgba(60, 64, 67, 0.15);\n",
              "    fill: var(--button-hover-fill-color);\n",
              "  }\n",
              "\n",
              "  .colab-df-quickchart-complete:disabled,\n",
              "  .colab-df-quickchart-complete:disabled:hover {\n",
              "    background-color: var(--disabled-bg-color);\n",
              "    fill: var(--disabled-fill-color);\n",
              "    box-shadow: none;\n",
              "  }\n",
              "\n",
              "  .colab-df-spinner {\n",
              "    border: 2px solid var(--fill-color);\n",
              "    border-color: transparent;\n",
              "    border-bottom-color: var(--fill-color);\n",
              "    animation:\n",
              "      spin 1s steps(1) infinite;\n",
              "  }\n",
              "\n",
              "  @keyframes spin {\n",
              "    0% {\n",
              "      border-color: transparent;\n",
              "      border-bottom-color: var(--fill-color);\n",
              "      border-left-color: var(--fill-color);\n",
              "    }\n",
              "    20% {\n",
              "      border-color: transparent;\n",
              "      border-left-color: var(--fill-color);\n",
              "      border-top-color: var(--fill-color);\n",
              "    }\n",
              "    30% {\n",
              "      border-color: transparent;\n",
              "      border-left-color: var(--fill-color);\n",
              "      border-top-color: var(--fill-color);\n",
              "      border-right-color: var(--fill-color);\n",
              "    }\n",
              "    40% {\n",
              "      border-color: transparent;\n",
              "      border-right-color: var(--fill-color);\n",
              "      border-top-color: var(--fill-color);\n",
              "    }\n",
              "    60% {\n",
              "      border-color: transparent;\n",
              "      border-right-color: var(--fill-color);\n",
              "    }\n",
              "    80% {\n",
              "      border-color: transparent;\n",
              "      border-right-color: var(--fill-color);\n",
              "      border-bottom-color: var(--fill-color);\n",
              "    }\n",
              "    90% {\n",
              "      border-color: transparent;\n",
              "      border-bottom-color: var(--fill-color);\n",
              "    }\n",
              "  }\n",
              "</style>\n",
              "\n",
              "  <script>\n",
              "    async function quickchart(key) {\n",
              "      const quickchartButtonEl =\n",
              "        document.querySelector('#' + key + ' button');\n",
              "      quickchartButtonEl.disabled = true;  // To prevent multiple clicks.\n",
              "      quickchartButtonEl.classList.add('colab-df-spinner');\n",
              "      try {\n",
              "        const charts = await google.colab.kernel.invokeFunction(\n",
              "            'suggestCharts', [key], {});\n",
              "      } catch (error) {\n",
              "        console.error('Error during call to suggestCharts:', error);\n",
              "      }\n",
              "      quickchartButtonEl.classList.remove('colab-df-spinner');\n",
              "      quickchartButtonEl.classList.add('colab-df-quickchart-complete');\n",
              "    }\n",
              "    (() => {\n",
              "      let quickchartButtonEl =\n",
              "        document.querySelector('#df-406cadd0-50cf-4715-aea7-f8aeaf909124 button');\n",
              "      quickchartButtonEl.style.display =\n",
              "        google.colab.kernel.accessAllowed ? 'block' : 'none';\n",
              "    })();\n",
              "  </script>\n",
              "</div>\n",
              "\n",
              "  <div id=\"id_03c9761c-ef2a-48d5-809f-4e99e566161a\">\n",
              "    <style>\n",
              "      .colab-df-generate {\n",
              "        background-color: #E8F0FE;\n",
              "        border: none;\n",
              "        border-radius: 50%;\n",
              "        cursor: pointer;\n",
              "        display: none;\n",
              "        fill: #1967D2;\n",
              "        height: 32px;\n",
              "        padding: 0 0 0 0;\n",
              "        width: 32px;\n",
              "      }\n",
              "\n",
              "      .colab-df-generate:hover {\n",
              "        background-color: #E2EBFA;\n",
              "        box-shadow: 0px 1px 2px rgba(60, 64, 67, 0.3), 0px 1px 3px 1px rgba(60, 64, 67, 0.15);\n",
              "        fill: #174EA6;\n",
              "      }\n",
              "\n",
              "      [theme=dark] .colab-df-generate {\n",
              "        background-color: #3B4455;\n",
              "        fill: #D2E3FC;\n",
              "      }\n",
              "\n",
              "      [theme=dark] .colab-df-generate:hover {\n",
              "        background-color: #434B5C;\n",
              "        box-shadow: 0px 1px 3px 1px rgba(0, 0, 0, 0.15);\n",
              "        filter: drop-shadow(0px 1px 2px rgba(0, 0, 0, 0.3));\n",
              "        fill: #FFFFFF;\n",
              "      }\n",
              "    </style>\n",
              "    <button class=\"colab-df-generate\" onclick=\"generateWithVariable('check')\"\n",
              "            title=\"Generate code using this dataframe.\"\n",
              "            style=\"display:none;\">\n",
              "\n",
              "  <svg xmlns=\"http://www.w3.org/2000/svg\" height=\"24px\"viewBox=\"0 0 24 24\"\n",
              "       width=\"24px\">\n",
              "    <path d=\"M7,19H8.4L18.45,9,17,7.55,7,17.6ZM5,21V16.75L18.45,3.32a2,2,0,0,1,2.83,0l1.4,1.43a1.91,1.91,0,0,1,.58,1.4,1.91,1.91,0,0,1-.58,1.4L9.25,21ZM18.45,9,17,7.55Zm-12,3A5.31,5.31,0,0,0,4.9,8.1,5.31,5.31,0,0,0,1,6.5,5.31,5.31,0,0,0,4.9,4.9,5.31,5.31,0,0,0,6.5,1,5.31,5.31,0,0,0,8.1,4.9,5.31,5.31,0,0,0,12,6.5,5.46,5.46,0,0,0,6.5,12Z\"/>\n",
              "  </svg>\n",
              "    </button>\n",
              "    <script>\n",
              "      (() => {\n",
              "      const buttonEl =\n",
              "        document.querySelector('#id_03c9761c-ef2a-48d5-809f-4e99e566161a button.colab-df-generate');\n",
              "      buttonEl.style.display =\n",
              "        google.colab.kernel.accessAllowed ? 'block' : 'none';\n",
              "\n",
              "      buttonEl.onclick = () => {\n",
              "        google.colab.notebook.generateWithVariable('check');\n",
              "      }\n",
              "      })();\n",
              "    </script>\n",
              "  </div>\n",
              "\n",
              "    </div>\n",
              "  </div>\n"
            ],
            "application/vnd.google.colaboratory.intrinsic+json": {
              "type": "dataframe",
              "variable_name": "check",
              "summary": "{\n  \"name\": \"check\",\n  \"rows\": 96,\n  \"fields\": [\n    {\n      \"column\": \"id\",\n      \"properties\": {\n        \"dtype\": \"number\",\n        \"std\": 10598,\n        \"min\": 1362,\n        \"max\": 53964,\n        \"num_unique_values\": 96,\n        \"samples\": [\n          25024,\n          25020,\n          25016\n        ],\n        \"semantic_type\": \"\",\n        \"description\": \"\"\n      }\n    },\n    {\n      \"column\": \"url\",\n      \"properties\": {\n        \"dtype\": \"string\",\n        \"num_unique_values\": 96,\n        \"samples\": [\n          \"https://ko.wikisource.org/wiki?curid=25024\",\n          \"https://ko.wikisource.org/wiki?curid=25020\",\n          \"https://ko.wikisource.org/wiki?curid=25016\"\n        ],\n        \"semantic_type\": \"\",\n        \"description\": \"\"\n      }\n    },\n    {\n      \"column\": \"title\",\n      \"properties\": {\n        \"dtype\": \"string\",\n        \"num_unique_values\": 96,\n        \"samples\": [\n          \"\\ub2d8\\uc758 \\uce68\\ubb35/\\uc7a0\\uaf2c\\ub300\",\n          \"\\ub2d8\\uc758 \\uce68\\ubb35/\\ucc38\\ub9d0\\uc778\\uac00\\uc694\",\n          \"\\ub2d8\\uc758 \\uce68\\ubb35/\\uccab \\ud0a4\\uc2a4\"\n        ],\n        \"semantic_type\": \"\",\n        \"description\": \"\"\n      }\n    },\n    {\n      \"column\": \"doc\",\n      \"properties\": {\n        \"dtype\": \"string\",\n        \"num_unique_values\": 96,\n        \"samples\": [\n          \"\\n\\ub2d8\\uc758 \\uce68\\ubb35/\\uc7a0\\uaf2c\\ub300\\n\\n<poem>\\n\\u300c\\uc0ac\\ub791\\uc774\\ub77c\\ub294 \\uac83\\uc740 \\ub2e4 \\ubb34\\uc5c7\\uc774\\ub0d0 \\uc9c4\\uc815\\ud55c \\uc0ac\\ub78c\\uc5d0\\uac8c\\ub294 \\ub208\\ubb3c\\ub3c4 \\uc5c6\\uace0 \\uc6c3\\uc74c\\ub3c4 \\uc5c6\\ub294 \\uac83\\uc774\\ub2e4\\n\\uc0ac\\ub791\\uc758 \\ub4a4\\uc6c5\\ubc15\\uc744 \\ubc1c\\uae38\\ub85c \\ucc28\\uc11c \\uae68\\ub728\\ub824\\ubc84\\ub9ac\\uace0 \\ub208\\ubb3c\\uacfc \\uc6c3\\uc74c\\uc744 \\ud2f0\\ub04c \\uc18d\\uc5d0 \\u5408\\u846c\\uc744 \\ud558\\uc5ec\\ub77c\\n\\u7406\\u667a\\uc640 \\u611f\\u60c5\\uc744 \\ub450\\ub4dc\\ub824 \\uae68\\ucc98\\uc11c \\uac00\\ub8e8\\ub97c \\ub9cc\\ub4e4\\uc5b4\\ubc84\\ub824\\ub77c\\n\\uadf8\\ub9ac\\uace0 \\u865b\\u7121\\uc758 \\u7d76\\u9802\\uc5d0 \\uc62c\\ub108\\uac00\\uc11c \\uc5b4\\uc9c0\\ub7fd\\uac8c \\ucda4\\ucd94\\uace0 \\ubbf8\\uce58\\uac8c \\ub178\\ub798\\ud558\\uc5ec\\ub77c\\n\\uadf8\\ub9ac\\uace0 \\u611b\\u4eba\\uacfc \\u60e1\\u9b54\\ub97c \\ub611\\uac19\\uc774 \\uc220\\uc744 \\uba39\\uc5ec\\ub77c\\n\\uadf8\\ub9ac\\uace0 \\u5929\\u7661\\uac00 \\ub418\\ub358\\uc9c0 \\ubbf8\\uce58\\uad11\\uc774\\uac00 \\ub418\\ub358\\uc9c0 \\uc0b0\\uc1a1\\uc7a5\\uc774 \\ub418\\ub358\\uc9c0 \\ud558\\uc5ec\\ubc84\\ub824\\ub77c\\n\\uadf8\\ub798 \\ub108\\ub294 \\uc8fd\\uc5b4\\ub3c4 \\uc0ac\\ub791\\uc774\\ub77c\\ub294 \\uac83\\uc740 \\ubc84\\ub9b4 \\uc218\\uac00 \\uc5c6\\ub2e8 \\ub9d0\\uc774\\ub0d0\\n\\uadf8\\ub807\\uac70\\ub4e0 \\uc0ac\\ub791\\uc758 \\uaf41\\ubb38\\uc774\\uc5d0 \\ub3c4\\ub871\\ud0dc\\ub97c \\ub2ec\\uc544\\ub77c\\n\\uadf8\\ub798\\uc11c \\ub124 \\uba4b\\ub300\\ub85c \\ub04c\\uace0 \\ub3cc\\uc544\\ub2e4\\ub2c8\\ub2e4\\uac00 \\uc26c\\uace0 \\uc2f6\\uac70\\ub4e0 \\uc26c\\uace0 \\uc790\\uace0 \\uc2f6\\uac70\\ub4e0 \\uc790\\uace0 \\uc0b4\\uace0 \\uc2f6\\uac70\\ub4e0 \\uc0b4\\uace0 \\uc8fd\\uace0 \\uc2f6\\uac70\\ub4e0 \\uc8fd\\uc5b4\\ub77c\\n\\uc0ac\\ub791\\uc758 \\ubc1c\\ubc14\\ub2e5\\uc5d0 \\ub9d0\\ubaa9\\uc744 \\uccd0\\ub193\\uace0 \\ubd99\\ub4e4\\uace0 \\uc11c\\uc11c \\uc5c9\\uc5c9 \\uc6b0\\ub294 \\uac83\\uc740 \\uc6b0\\uc2a4\\uc6b4 \\uc77c\\uc774\\ub2e4\\n\\uc774 \\uc138\\uc0c1\\uc5d0\\ub294 \\uc774\\ub9c8\\ube61\\uc5d0\\ub2e4 \\u300c\\ub2d8\\u300d\\uc774\\ub77c\\uace0 \\uc0c8\\uae30\\uace0 \\ub2e4\\ub2c8\\ub294 \\uc0ac\\ub78c\\uc740 \\ud558\\ub098\\ub3c4 \\uc5c6\\ub2e4\\n\\u6200\\u611b\\ub294 \\u7d76\\u5c0d\\u81ea\\u7531\\uc694 \\u8c9e\\u64cd\\ub294 \\u6d41\\u52d5\\uc774\\uc694 \\u7d50\\u5a5a\\u5f0f\\u5834\\uc740 \\u6797\\u9593\\uc774\\ub2e4\\u300d\\n\\ub098\\ub294 \\uc7a0\\uacb0\\uc5d0 \\ud070 \\uc18c\\ub9ac\\ub85c \\uc774\\ub807\\uac8c \\ubd80\\ub974\\uc9d6\\uc5c8\\ub2e4\\n\\uc544\\uc544 \\u60d1\\u661f \\uac19\\uc774 \\ube5b\\ub098\\ub294 \\ub2d8\\uc758 \\u5fae\\u7b11\\ub294 \\u9ed1\\u95c7\\uc758 \\u5149\\u7dda\\uc5d0\\uc11c \\ucc44 \\uc0ac\\ub77c\\uc9c0\\uc9c0 \\uc544\\ub2c8\\ud558\\uc600\\uc2b5\\ub2c8\\ub2e4 \\n\\uc7a0\\uc758 \\ub098\\ub77c\\uc5d0\\uc11c \\ubab8\\ubd80\\ub9bc\\uce58\\ub358 \\uc0ac\\ub791\\uc758 \\ub208\\ubb3c\\uc740 \\uc5b4\\ub290\\ub367 \\ubca0\\uac1c\\ub97c \\uc801\\uc168\\uc2b5\\ub2c8\\ub2e4 \\n\\u5bb9\\u6055\\ud558\\uc154\\uc694 \\ub2d8\\uc774\\uc5ec \\uc544\\ubb34\\ub9ac \\uc7a0\\uc774 \\uc9c0\\uc740 \\ud5c8\\ubb3c\\uc774\\ub77c\\ub3c4 \\ub2d8\\uc774 \\u7f70\\uc744 \\uc8fc\\uc2e0\\ub2e4\\uba74 \\uadf8 \\u7f70\\uc744 \\uc7a0\\uc744 \\uc8fc\\uae30\\ub294 \\uc2eb\\uc2b5\\ub2c8\\ub2e4 \\n</poem>\\n\\n\",\n          \"\\n\\ub2d8\\uc758 \\uce68\\ubb35/\\ucc38\\ub9d0\\uc778\\uac00\\uc694\\n\\n<poem>\\n\\uadf8\\uac83\\uc774 \\ucc38\\ub9d0\\uc778\\uac00\\uc694 \\ub2d8\\uc774\\uc5ec \\uc18d\\uc784\\uc5c6\\uc774 \\ub9d0\\uc500\\ud558\\uc5ec \\uc8fc\\uc154\\uc694\\n\\ub2f9\\uc2e0\\uc744 \\ub098\\uc5d0\\uac8c\\uc11c \\ube7c\\uc557\\uc544 \\uac04 \\uc0ac\\ub78c\\ub4e4\\uc774 \\ub2f9\\uc2e0\\uc744 \\ubcf4\\uace0 \\u300c\\uadf8\\ub300\\ub294 \\ub2d8\\uc774 \\uc5c6\\ub2e4\\u300d\\uace0 \\ud558\\uc600\\ub2e4\\uc9c0\\uc694\\n\\uadf8\\ub798\\uc11c \\ub2f9\\uc2e0\\uc740 \\ub0a8 \\ubaa8\\ub974\\ub294 \\uacf3\\uc5d0\\uc11c \\uc6b8\\ub2e4\\uac00 \\ub0a8\\uc774 \\ubcf4\\uba74 \\uc6b8\\uc74c\\uc744 \\uc6c3\\uc74c\\uc73c\\ub85c \\ubcc0\\ud55c\\ub2e4\\uc9c0\\uc694\\n\\uc0ac\\ub78c\\uc758 \\uc6b0\\ub294 \\uac83\\uc740 \\uacac\\ub51c \\uc218\\uac00 \\uc5c6\\ub294 \\uac83\\uc778\\ub370 \\uc6b8\\uae30\\uc870\\ucc28 \\ub9c8\\uc74c\\ub300\\ub85c \\ubabb\\ud558\\uace0 \\uc6c3\\uc74c\\uc73c\\ub85c \\ubcc0\\ud558\\ub294 \\uac83\\uc740 \\uc8fd\\uc74c\\uc758 \\ub9db\\ubcf4\\ub2e4\\ub3c4 \\ub354 \\uc4f4 \\uac83\\uc785\\ub2c8\\ub2e4\\n\\uadf8\\ub7ec\\uba74 \\ub098\\ub294 \\uadf8\\uac83\\uc744 \\ubcc0\\uba85\\ud558\\uc9c0 \\uc54a\\uace0\\ub294 \\uacac\\ub51c \\uc218\\uac00 \\uc5c6\\uc2b5\\ub2c8\\ub2e4\\n\\ub098\\uc758 \\u751f\\u547d\\uc758 \\uaf43\\uac00\\uc9c0\\ub97c \\uc788\\ub294\\ub300\\ub85c \\uaebe\\uc5b4\\uc11c \\u82b1\\u74b0\\uc744 \\ub9cc\\ub4e4\\uc5b4 \\ub2f9\\uc2e0\\uc758 \\ubaa9\\uc5d0 \\uac78\\uace0 \\u300c\\uc774\\uac83\\uc774 \\ub2d8\\uc758 \\ub2d8\\uc774\\ub77c\\u300d\\uace0 \\uc18c\\ub9ac\\uccd0 \\ub9d0\\ud558\\uaca0\\uc2b5\\ub2c8\\ub2e4\\n\\uadf8\\uac83\\uc774 \\ucc38\\ub9d0\\uc778\\uac00\\uc694 \\ub2d8\\uc774\\uc5ec \\uc18d\\uc784\\uc5c6\\uc774 \\ub9d0\\uc500\\ud558\\uc5ec \\uc8fc\\uc154\\uc694\\n\\ub2f9\\uc2e0\\uc744 \\ub098\\uc5d0\\uac8c\\uc11c \\ube7c\\uc557\\uc544 \\uac04 \\uc0ac\\ub78c\\ub4e4\\uc774 \\ub2f9\\uc2e0\\uc744 \\ubcf4\\uace0 \\u300c\\uadf8\\ub300\\uc758 \\ub2d8\\uc740 \\uc6b0\\ub9ac\\uac00 \\uad6c\\ud558\\uc5ec\\uc900\\ub2e4\\u300d\\uace0 \\ud558\\uc600\\ub2e4\\uc9c0\\uc694\\n\\uadf8\\ub798\\uc11c \\ub2f9\\uc2e0\\uc740 \\u300c\\u7368\\u8eab\\u751f\\u6d3b\\uc744 \\ud558\\uaca0\\ub2e4\\u300d\\uace0 \\ud558\\uc600\\ub2e4\\uc9c0\\uc694\\n\\uadf8\\ub7ec\\uba74 \\ub098\\ub294 \\uadf8\\ub4e4\\uc5d0\\uac8c \\ubd84\\ud480\\uc774\\ub97c \\ud558\\uc9c0 \\uc54a\\uace0\\ub294 \\uacac\\ub51c \\uc218\\uac00 \\uc5c6\\uc2b5\\ub2c8\\ub2e4\\n\\ub9ce\\uc9c0 \\uc54a\\uc740 \\ub098\\uc758 \\ud53c\\ub97c \\ub354\\uc6b4 \\ub208\\ubb3c\\uc5d0 \\uc11e\\uc5b4\\uc11c \\ud53c\\uc5d0 \\ubaa9\\ub9c8\\ub978 \\uadf8\\ub4e4\\uc758 \\uce7c\\uc5d0 \\ubfcc\\ub9ac\\uace0 \\u300c\\uc774\\uac83\\uc774 \\ub2d8\\uc758 \\ub2d8\\uc774\\ub77c\\u300d\\uace0 \\uc6b8\\uc74c \\uc11e\\uc5b4\\uc11c \\ub9d0\\ud558\\uaca0\\uc2b5\\ub2c8\\ub2e4\\n</poem>\\n\\n\",\n          \"\\n\\ub2d8\\uc758 \\uce68\\ubb35/\\uccab \\ud0a4\\uc2a4\\n\\n<poem>\\n\\ub9c8\\uc154\\uc694 \\uc81c\\ubc1c \\ub9c8\\uc154\\uc694\\n\\ubcf4\\uba74\\uc11c \\ubabb\\ubcf4\\ub294 \\uccb4 \\ub9c8\\uc154\\uc694\\n\\ub9c8\\uc154\\uc694 \\uc81c\\ubc1c \\ub9c8\\uc154\\uc694\\n\\uc785\\uc220\\uc744 \\ub2e4\\ubb3c\\uace0 \\ub208\\uc73c\\ub85c \\ub9d0\\ud558\\uc9c0 \\ub9c8\\uc154\\uc694\\n\\ub9c8\\uc154\\uc694 \\uc81c\\ubc1c \\ub9c8\\uc154\\uc694\\n\\ub728\\uac70\\uc6b4 \\uc0ac\\ub791\\uc5d0 \\uc6b0\\uc2a4\\uba74\\uc11c \\ucc28\\ub514\\ucc2c \\uc794\\ubd80\\ub044\\ub7ec\\uc6c0\\uc5d0 \\uc6b8\\uc9c0 \\ub9c8\\uc154\\uc694\\n\\ub9c8\\uc154\\uc694 \\uc81c\\ubc1c \\ub9c8\\uc154\\uc694\\n\\u4e16\\u754c\\uc758 \\uaf43\\uc744 \\ud63c\\uc790 \\ub530\\uba74\\uc11c \\u4ea2\\u596e\\uc5d0 \\ub118\\uccd0\\uc11c \\ub5a8\\uc9c0 \\ub9c8\\uc154\\uc694\\n\\ub9c8\\uc154\\uc694 \\uc81c\\ubc1c \\ub9c8\\uc154\\uc694\\n\\u5fae\\u7b11\\ub294 \\ub098\\uc758 \\u904b\\u547d\\uc758 \\uac00\\uc2b4\\uc5d0\\uc11c \\ucda4\\uc744 \\ucda5\\ub2c8\\ub2e4 \\uc0c8\\uc0bc\\uc2a4\\ub7fd\\uac8c \\uc2a4\\uc2a4\\ub7ec\\uc6cc \\ub9c8\\uc154\\uc694</poem>\\n\\n\"\n        ],\n        \"semantic_type\": \"\",\n        \"description\": \"\"\n      }\n    }\n  ]\n}"
            }
          },
          "metadata": {},
          "execution_count": 32
        }
      ]
    },
    {
      "cell_type": "code",
      "source": [
        "#빈 프레임 만들기 (열은 본문과 title)\n",
        "text = pd.DataFrame(columns=['본문', '제목'])"
      ],
      "metadata": {
        "id": "M4EMV1eL21FG"
      },
      "execution_count": 42,
      "outputs": []
    },
    {
      "cell_type": "markdown",
      "source": [
        "### 데이터 추출 (행마다)"
      ],
      "metadata": {
        "id": "nbR1jWD0PbmG"
      }
    },
    {
      "cell_type": "code",
      "source": [
        "# 작품 한개씩 행 추출 (데이터에 포함된 작품이름과, 작가 이름을 검색.)\n",
        "text = getOnlyOneresult_with_title(df, text, process_getPoemLines, title, author, index) #검색어, 작가 이름 입력\n",
        "text.iloc[-1] # 마지막줄 확인"
      ],
      "metadata": {
        "colab": {
          "base_uri": "https://localhost:8080/",
          "height": 178
        },
        "collapsed": true,
        "id": "RVVygY7aybr4",
        "outputId": "4b082374-1451-4af6-c1be-85a63c4187f7"
      },
      "execution_count": 33,
      "outputs": [
        {
          "output_type": "execute_result",
          "data": {
            "text/plain": [
              "본문    가갸날,오오 가갸날이여\n",
              "제목             가갸날\n",
              "저자             한용운\n",
              "Name: 25, dtype: object"
            ],
            "text/html": [
              "<div>\n",
              "<style scoped>\n",
              "    .dataframe tbody tr th:only-of-type {\n",
              "        vertical-align: middle;\n",
              "    }\n",
              "\n",
              "    .dataframe tbody tr th {\n",
              "        vertical-align: top;\n",
              "    }\n",
              "\n",
              "    .dataframe thead th {\n",
              "        text-align: right;\n",
              "    }\n",
              "</style>\n",
              "<table border=\"1\" class=\"dataframe\">\n",
              "  <thead>\n",
              "    <tr style=\"text-align: right;\">\n",
              "      <th></th>\n",
              "      <th>25</th>\n",
              "    </tr>\n",
              "  </thead>\n",
              "  <tbody>\n",
              "    <tr>\n",
              "      <th>본문</th>\n",
              "      <td>가갸날,오오 가갸날이여</td>\n",
              "    </tr>\n",
              "    <tr>\n",
              "      <th>제목</th>\n",
              "      <td>가갸날</td>\n",
              "    </tr>\n",
              "    <tr>\n",
              "      <th>저자</th>\n",
              "      <td>한용운</td>\n",
              "    </tr>\n",
              "  </tbody>\n",
              "</table>\n",
              "</div><br><label><b>dtype:</b> object</label>"
            ]
          },
          "metadata": {},
          "execution_count": 33
        }
      ]
    },
    {
      "cell_type": "markdown",
      "source": [
        "### 데이터 추출 (전체)"
      ],
      "metadata": {
        "id": "YI2Gmvm2Pei8"
      }
    },
    {
      "cell_type": "code",
      "source": [
        "# 작품 한개씩 행 추출 (데이터에 포함된 작품이름과, 작가 이름을 검색.)\n",
        "text = getOnlyOneFullTextresult_with_title(df, text, process_getFullPoemLines, title, author, index) #검색어, 작가 이름 입력\n",
        "text.iloc[0] # 마지막줄 확인"
      ],
      "metadata": {
        "colab": {
          "base_uri": "https://localhost:8080/",
          "height": 178
        },
        "id": "zAI8n1ukMqiq",
        "outputId": "fd67208d-dab9-4517-b0ac-9839c0d0bc93"
      },
      "execution_count": 47,
      "outputs": [
        {
          "output_type": "execute_result",
          "data": {
            "text/plain": [
              "본문    \\n\\n아아, 가갸날\\n참되고 어질고 아름다와요\\n축일(祝日) 제일(祭日)\\n메이 ...\n",
              "제목                                            님의 침묵/가갸날\n",
              "저자                                                  한용운\n",
              "Name: 0, dtype: object"
            ],
            "text/html": [
              "<div>\n",
              "<style scoped>\n",
              "    .dataframe tbody tr th:only-of-type {\n",
              "        vertical-align: middle;\n",
              "    }\n",
              "\n",
              "    .dataframe tbody tr th {\n",
              "        vertical-align: top;\n",
              "    }\n",
              "\n",
              "    .dataframe thead th {\n",
              "        text-align: right;\n",
              "    }\n",
              "</style>\n",
              "<table border=\"1\" class=\"dataframe\">\n",
              "  <thead>\n",
              "    <tr style=\"text-align: right;\">\n",
              "      <th></th>\n",
              "      <th>0</th>\n",
              "    </tr>\n",
              "  </thead>\n",
              "  <tbody>\n",
              "    <tr>\n",
              "      <th>본문</th>\n",
              "      <td>\\n\\n아아, 가갸날\\n참되고 어질고 아름다와요\\n축일(祝日) 제일(祭日)\\n메이 ...</td>\n",
              "    </tr>\n",
              "    <tr>\n",
              "      <th>제목</th>\n",
              "      <td>님의 침묵/가갸날</td>\n",
              "    </tr>\n",
              "    <tr>\n",
              "      <th>저자</th>\n",
              "      <td>한용운</td>\n",
              "    </tr>\n",
              "  </tbody>\n",
              "</table>\n",
              "</div><br><label><b>dtype:</b> object</label>"
            ]
          },
          "metadata": {},
          "execution_count": 47
        }
      ]
    },
    {
      "cell_type": "markdown",
      "source": [
        "### 엑셀로 저장"
      ],
      "metadata": {
        "id": "LPJg5ZOjPg9i"
      }
    },
    {
      "cell_type": "code",
      "source": [
        "# 엑셀로 저장하기\n",
        "text.to_excel('위키문헌_한용운_행별.xlsx')"
      ],
      "metadata": {
        "id": "tqgY-l4R7kyh"
      },
      "execution_count": 48,
      "outputs": []
    }
  ]
}