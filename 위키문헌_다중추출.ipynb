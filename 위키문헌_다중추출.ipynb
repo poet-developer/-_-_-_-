{
  "nbformat": 4,
  "nbformat_minor": 0,
  "metadata": {
    "colab": {
      "provenance": [],
      "collapsed_sections": [
        "zf6QpeapEMyt",
        "88gWeqPxP3yz"
      ],
      "include_colab_link": true
    },
    "kernelspec": {
      "name": "python3",
      "display_name": "Python 3"
    },
    "language_info": {
      "name": "python"
    }
  },
  "cells": [
    {
      "cell_type": "markdown",
      "metadata": {
        "id": "view-in-github",
        "colab_type": "text"
      },
      "source": [
        "<a href=\"https://colab.research.google.com/github/poet-developer/getPoemLineData_with-wikisource/blob/main/%EC%9C%84%ED%82%A4%EB%AC%B8%ED%97%8C_%EB%8B%A4%EC%A4%91%EC%B6%94%EC%B6%9C.ipynb\" target=\"_parent\"><img src=\"https://colab.research.google.com/assets/colab-badge.svg\" alt=\"Open In Colab\"/></a>"
      ]
    },
    {
      "cell_type": "markdown",
      "source": [
        "# 위키문헌(Wikisource) XML파일 처리"
      ],
      "metadata": {
        "id": "drLQ4PFuxBAo"
      }
    },
    {
      "cell_type": "code",
      "source": [
        "pip install -q wikiextractor gdown"
      ],
      "metadata": {
        "id": "Q7FNIJy6xBb6",
        "colab": {
          "base_uri": "https://localhost:8080/"
        },
        "outputId": "03e093c0-76ce-40be-adc7-4ea44f12dcfe"
      },
      "execution_count": 1,
      "outputs": [
        {
          "output_type": "stream",
          "name": "stdout",
          "text": [
            "\u001b[?25l   \u001b[90m━━━━━━━━━━━━━━━━━━━━━━━━━━━━━━━━━━━━━━━━\u001b[0m \u001b[32m0.0/46.4 kB\u001b[0m \u001b[31m?\u001b[0m eta \u001b[36m-:--:--\u001b[0m\r\u001b[2K   \u001b[91m━━━━━━━━━━━━━━━━━━━━━━━━━━━━━━━━━━━\u001b[0m\u001b[90m╺\u001b[0m\u001b[90m━━━━\u001b[0m \u001b[32m41.0/46.4 kB\u001b[0m \u001b[31m4.7 MB/s\u001b[0m eta \u001b[36m0:00:01\u001b[0m\r\u001b[2K   \u001b[90m━━━━━━━━━━━━━━━━━━━━━━━━━━━━━━━━━━━━━━━━\u001b[0m \u001b[32m46.4/46.4 kB\u001b[0m \u001b[31m922.3 kB/s\u001b[0m eta \u001b[36m0:00:00\u001b[0m\n",
            "\u001b[?25h"
          ]
        }
      ]
    },
    {
      "cell_type": "code",
      "source": [
        "# 필요 패키지 load\n",
        "import pandas as pd\n",
        "from tqdm import tqdm\n",
        "tqdm.pandas()\n",
        "# import gutenbergpy.textget\n",
        "from pprint import pprint\n",
        "import gdown\n",
        "from collections import Counter\n",
        "from itertools import chain"
      ],
      "metadata": {
        "id": "gVDGJ04xxN08"
      },
      "execution_count": 2,
      "outputs": []
    },
    {
      "cell_type": "markdown",
      "source": [
        "### 위키문헌 (wikisource)\n",
        "https://dumps.wikimedia.org/kowikisource/20240901/  \n",
        "참고문헌 : 서재현, 김병준, 김민우 and 박소정. (2021). 멀리서 읽는 “우리”― Word2Vec, N-gram을 이용한 근대 소설 텍스트 분석. 대동문화연구, 115, 349-386."
      ],
      "metadata": {
        "id": "gpoFZcM1vp-y"
      }
    },
    {
      "cell_type": "markdown",
      "source": [
        "##### 위키문헌 전처리"
      ],
      "metadata": {
        "id": "qgRZeI6n1R2t"
      }
    },
    {
      "cell_type": "code",
      "source": [
        "# 위키문헌 xml 원본 파일 다운로드\n",
        "# https://dumps.wikimedia.org/kowikisource/20240901/kowikisource-20240901-pages-articles.xml.bz2\n",
        "!wget https://dumps.wikimedia.org/kowikisource/20241101/kowikisource-20241101-pages-articles.xml.bz2"
      ],
      "metadata": {
        "id": "-GmI9Pc7y5tJ",
        "colab": {
          "base_uri": "https://localhost:8080/"
        },
        "outputId": "770cd2ef-72bd-4ada-d026-a089ea996766"
      },
      "execution_count": 3,
      "outputs": [
        {
          "output_type": "stream",
          "name": "stdout",
          "text": [
            "--2024-11-20 04:51:14--  https://dumps.wikimedia.org/kowikisource/20241101/kowikisource-20241101-pages-articles.xml.bz2\n",
            "Resolving dumps.wikimedia.org (dumps.wikimedia.org)... 208.80.154.71, 2620:0:861:3:208:80:154:71\n",
            "Connecting to dumps.wikimedia.org (dumps.wikimedia.org)|208.80.154.71|:443... connected.\n",
            "HTTP request sent, awaiting response... 200 OK\n",
            "Length: 151135574 (144M) [application/octet-stream]\n",
            "Saving to: ‘kowikisource-20241101-pages-articles.xml.bz2’\n",
            "\n",
            "kowikisource-202411 100%[===================>] 144.13M  3.43MB/s    in 41s     \n",
            "\n",
            "2024-11-20 04:51:55 (3.49 MB/s) - ‘kowikisource-20241101-pages-articles.xml.bz2’ saved [151135574/151135574]\n",
            "\n"
          ]
        }
      ]
    },
    {
      "cell_type": "code",
      "execution_count": 4,
      "metadata": {
        "id": "0O1-IqBdxZWi",
        "colab": {
          "base_uri": "https://localhost:8080/"
        },
        "outputId": "d0366de3-a0c9-4964-fbb3-52199e880733"
      },
      "outputs": [
        {
          "output_type": "stream",
          "name": "stdout",
          "text": [
            "INFO: Preprocessing 'kowikisource-20241101-pages-articles.xml.bz2' to collect template definitions: this may take some time.\n",
            "INFO: Loaded 1242 templates in 67.3s\n",
            "INFO: Starting page extraction from kowikisource-20241101-pages-articles.xml.bz2.\n",
            "INFO: Using 1 extract processes.\n",
            "INFO: Finished 1-process extraction of 37057 articles in 148.5s (249.5 art/s)\n"
          ]
        }
      ],
      "source": [
        "# Parsing (3분 가량 걸림)\n",
        "!python -m wikiextractor.WikiExtractor kowikisource-20241101-pages-articles.xml.bz2"
      ]
    },
    {
      "cell_type": "code",
      "execution_count": 5,
      "metadata": {
        "id": "nHIFyh_hxZWj"
      },
      "outputs": [],
      "source": [
        "# 파싱한 파일을 하나의 xml로 합치기\n",
        "!cat text/*/* > kowikisource.xml"
      ]
    },
    {
      "cell_type": "code",
      "execution_count": 6,
      "metadata": {
        "id": "rprxLloPxZWj"
      },
      "outputs": [],
      "source": [
        "# 맨위에 추가\n",
        "!echo \"$(echo -n -e '<?xml version=\"1.0\" encoding=\"UTF-8\"?>\\n<wikisource>\\n'; cat kowikisource.xml)\" > kowikisource.xml"
      ]
    },
    {
      "cell_type": "code",
      "execution_count": 7,
      "metadata": {
        "id": "Rk2c3ZM8xZWj",
        "colab": {
          "base_uri": "https://localhost:8080/"
        },
        "outputId": "6501a8a3-57b8-45e9-ebe3-412bb0498758"
      },
      "outputs": [
        {
          "output_type": "stream",
          "name": "stdout",
          "text": [
            "<?xml version=\"1.0\" encoding=\"UTF-8\"?>\n",
            "<wikisource>\n",
            "<doc id=\"1\" url=\"https://ko.wikisource.org/wiki?curid=1\" title=\"애국가 (대한민국)\">\n",
            "애국가 (대한민국)\n",
            "\n",
            "한자 혼용\n",
            "한글\n",
            "\n",
            "</doc>\n",
            "<doc id=\"2\" url=\"https://ko.wikisource.org/wiki?curid=2\" title=\"대한민국헌법 (한자혼용)\">\n",
            "대한민국헌법 (한자혼용)\n",
            "\n",
            "\n",
            "\n",
            "</doc>\n",
            "<doc id=\"3\" url=\"https://ko.wikisource.org/wiki?curid=3\" title=\"조선민주주의인민공화국 사회주의헌법\">\n",
            "조선민주주의인민공화국 사회주의헌법\n",
            "\n",
            "서문.\n",
            "조선민주주의인민공화국은 위대한 김일성동지와 김정일동지의 사상과 령도를 구현한 주체의 사회주의조국이다.\n"
          ]
        }
      ],
      "source": [
        "!head -n 20 kowikisource.xml # 첫 20줄만 확인"
      ]
    },
    {
      "cell_type": "code",
      "execution_count": 8,
      "metadata": {
        "id": "-y4nAvUGxZWk"
      },
      "outputs": [],
      "source": [
        "# 맨 아랫줄에 추가\n",
        "!echo '</wikisource>' >> kowikisource.xml"
      ]
    },
    {
      "cell_type": "code",
      "execution_count": 9,
      "metadata": {
        "id": "jBD6FKEGxZWk",
        "colab": {
          "base_uri": "https://localhost:8080/"
        },
        "outputId": "d983a281-754c-419f-e3ac-bebc334094d1"
      },
      "outputs": [
        {
          "output_type": "stream",
          "name": "stdout",
          "text": [
            "\n",
            "\n",
            "</doc>\n",
            "<doc id=\"93454\" url=\"https://ko.wikisource.org/wiki?curid=93454\" title=\"에티카 (스피노자)\">\n",
            "에티카 (스피노자)\n",
            "\n",
            "\n",
            "\n",
            "</doc>\n",
            "</wikisource>\n"
          ]
        }
      ],
      "source": [
        "!tail kowikisource.xml # 마지막줄 확인"
      ]
    },
    {
      "cell_type": "markdown",
      "source": [
        "##### 위키문헌 다루기"
      ],
      "metadata": {
        "id": "77tRo2aq1UGZ"
      }
    },
    {
      "cell_type": "code",
      "source": [
        "# xml 파일 dataframe로 읽기\n",
        "df = pd.read_xml('./kowikisource.xml')"
      ],
      "metadata": {
        "id": "d_av3Pg7vtqQ",
        "collapsed": true
      },
      "execution_count": 10,
      "outputs": []
    },
    {
      "cell_type": "markdown",
      "source": [
        "####작업자: 임이로\n",
        "####poetdeveloper.iro@gmail.com\n",
        "####bkksg.com"
      ],
      "metadata": {
        "id": "z7O18HHkEX18"
      }
    },
    {
      "cell_type": "markdown",
      "source": [
        "### 분리 행 추출 함수(getPoemLines)"
      ],
      "metadata": {
        "id": "cg8rC8lDEDlB"
      }
    },
    {
      "cell_type": "code",
      "source": [
        "def process_getPoemLines(data):\n",
        "    # 불필요한 인자 제거\n",
        "    filtered_list = [item for item in data if item not in [None, \"\", \" \", [], {}, '<poem>', '</poem>']]\n",
        "\n",
        "    # 제목 편집 (0번 인자 수정)\n",
        "    pick_title = filtered_list[0].split('/')\n",
        "    pick_title = pick_title[1] if len(pick_title) > 1 else filtered_list[0]\n",
        "    filtered_list[0] = pick_title\n",
        "\n",
        "    # 'title'은 첫 번째 인자, '본문'은 나머지 인자들\n",
        "    title = filtered_list[0]\n",
        "    body = filtered_list[1:]\n",
        "\n",
        "    # DataFrame 생성: 본문 열이 먼저 오도록\n",
        "    df = pd.DataFrame({'본문': body, '제목': [title] * len(body)})\n",
        "\n",
        "    return df"
      ],
      "metadata": {
        "id": "J2a6fuKuYHge"
      },
      "execution_count": 58,
      "outputs": []
    },
    {
      "cell_type": "markdown",
      "source": [
        "### 시 전체 추출 함수(getPoemFull Lines)"
      ],
      "metadata": {
        "id": "lgMcqWPmJ0bN"
      }
    },
    {
      "cell_type": "code",
      "source": [
        "def process_getPoemFullLines(data):\n",
        "    # 불필요한 인자 제거\n",
        "    cleaned_text = data.replace('<poem>', '').replace('</poem>', '').strip()\n",
        "    # 텍스트를 줄 단위로 나누기\n",
        "    lines = cleaned_text.strip().split('\\n')\n",
        "    title = lines[0]  # 첫 줄은 제목\n",
        "    body = '\\n'.join(lines[1:])  # 나머지는 본문\n",
        "\n",
        "    # DataFrame 생성\n",
        "    df = pd.DataFrame({'제목': [title], '본문': [body]})\n",
        "\n",
        "    return df"
      ],
      "metadata": {
        "id": "uyK5vKSzJxdQ"
      },
      "execution_count": 59,
      "outputs": []
    },
    {
      "cell_type": "markdown",
      "source": [
        "### 검색 데이터를 가지고 특정 행마다 다중 추출(update_results_with_title)"
      ],
      "metadata": {
        "id": "zf6QpeapEMyt"
      }
    },
    {
      "cell_type": "code",
      "source": [
        "def update_results_with_title(df, results_df, process_function, title_to_search, author):\n",
        "\n",
        "    # 제목에 해당하는 텍스트 검색\n",
        "    title_to_search.replace(\"_\", \" \")\n",
        "    filtered_text = df[df['title'].str.contains(title_to_search, na=False)]\n",
        "    if filtered_text.empty:\n",
        "        raise ValueError(f\"'{title_to_search}'에 해당하는 데이터가 없습니다.\")\n",
        "\n",
        "\n",
        "    # 조건 반복문으로 'doc' 처리\n",
        "    for index, row in filtered_text.iterrows():\n",
        "        if 'doc' in row:  # 'doc' 열이 존재하는지 확인\n",
        "            # 'doc' 값 추출\n",
        "            text_value = row['doc']\n",
        "\n",
        "            # 텍스트 처리\n",
        "            processed_result = process_function(text_value.split('\\n'))\n",
        "\n",
        "            # 처리 결과를 기존 DataFrame에 추가\n",
        "            results_df = pd.concat([results_df, pd.DataFrame(processed_result)], ignore_index=True)\n",
        "\n",
        "            # # 새로운 열 추가 (고정된 값)\n",
        "            results_df['저자'] = author\n",
        "        else:\n",
        "            print(f\"Row {index}에 'doc' 값이 없습니다. 건너뜁니다.\")\n",
        "    return results_df"
      ],
      "metadata": {
        "id": "d16ytDmOUlow"
      },
      "execution_count": 13,
      "outputs": []
    },
    {
      "cell_type": "markdown",
      "source": [
        "### 검색 데이터를 가지고 특정 시 전체 다중 추출(update results for FullText)"
      ],
      "metadata": {
        "id": "88gWeqPxP3yz"
      }
    },
    {
      "cell_type": "code",
      "source": [
        "def update_FullTextResults_with_title(df, results_df, process_function, title_to_search, author):\n",
        "\n",
        "    # 제목에 해당하는 텍스트 검색\n",
        "    title_to_search.replace(\"_\", \" \")\n",
        "    filtered_text = df[df['title'].str.contains(title_to_search, na=False)]\n",
        "    if filtered_text.empty:\n",
        "        raise ValueError(f\"'{title_to_search}'에 해당하는 데이터가 없습니다.\")\n",
        "\n",
        "\n",
        "    # 조건 반복문으로 'doc' 처리\n",
        "    for index, row in filtered_text.iterrows():\n",
        "        if 'doc' in row:  # 'doc' 열이 존재하는지 확인\n",
        "            # 'doc' 값 추출\n",
        "            text_value = row['doc']\n",
        "\n",
        "            # 텍스트 처리\n",
        "            processed_result = process_function(text_value)\n",
        "\n",
        "            # 처리 결과를 기존 DataFrame에 추가\n",
        "            results_df = pd.concat([results_df, pd.DataFrame(processed_result)], ignore_index=True)\n",
        "\n",
        "            # # 새로운 열 추가 (고정된 값)\n",
        "            results_df['저자'] = author\n",
        "        else:\n",
        "            print(f\"Row {index}에 'doc' 값이 없습니다. 건너뜁니다.\")\n",
        "    return results_df"
      ],
      "metadata": {
        "id": "jeZlQDEqLRTC"
      },
      "execution_count": 14,
      "outputs": []
    },
    {
      "cell_type": "markdown",
      "source": [
        "### 특정 데이터 추출 전 검색"
      ],
      "metadata": {
        "id": "GbfHE-CfD1HC"
      }
    },
    {
      "cell_type": "code",
      "source": [
        "# 검색 데이터 확인.\n",
        "title = '강 건너간 노래'\n",
        "author = '이육사'\n",
        "check = df[df['title'].str.contains(title)]\n",
        "check"
      ],
      "metadata": {
        "colab": {
          "base_uri": "https://localhost:8080/",
          "height": 89
        },
        "collapsed": true,
        "id": "Ntpt5Dbe9fUW",
        "outputId": "31d26342-6e85-4b90-d891-b3b8039a7b27"
      },
      "execution_count": 132,
      "outputs": [
        {
          "output_type": "execute_result",
          "data": {
            "text/plain": [
              "       id                                        url     title  \\\n",
              "634  3690  https://ko.wikisource.org/wiki?curid=3690  강 건너간 노래   \n",
              "\n",
              "                                                   doc  \n",
              "634  \\n강 건너간 노래\\n\\n<poem>\\n섣달에도 보름ᄭᅦ 달발근밤\\n압내江 ᄶᅢᆼᄶ...  "
            ],
            "text/html": [
              "\n",
              "  <div id=\"df-73b724f9-6025-4522-afa3-b7f8d52ea078\" class=\"colab-df-container\">\n",
              "    <div>\n",
              "<style scoped>\n",
              "    .dataframe tbody tr th:only-of-type {\n",
              "        vertical-align: middle;\n",
              "    }\n",
              "\n",
              "    .dataframe tbody tr th {\n",
              "        vertical-align: top;\n",
              "    }\n",
              "\n",
              "    .dataframe thead th {\n",
              "        text-align: right;\n",
              "    }\n",
              "</style>\n",
              "<table border=\"1\" class=\"dataframe\">\n",
              "  <thead>\n",
              "    <tr style=\"text-align: right;\">\n",
              "      <th></th>\n",
              "      <th>id</th>\n",
              "      <th>url</th>\n",
              "      <th>title</th>\n",
              "      <th>doc</th>\n",
              "    </tr>\n",
              "  </thead>\n",
              "  <tbody>\n",
              "    <tr>\n",
              "      <th>634</th>\n",
              "      <td>3690</td>\n",
              "      <td>https://ko.wikisource.org/wiki?curid=3690</td>\n",
              "      <td>강 건너간 노래</td>\n",
              "      <td>\\n강 건너간 노래\\n\\n&lt;poem&gt;\\n섣달에도 보름ᄭᅦ 달발근밤\\n압내江 ᄶᅢᆼᄶ...</td>\n",
              "    </tr>\n",
              "  </tbody>\n",
              "</table>\n",
              "</div>\n",
              "    <div class=\"colab-df-buttons\">\n",
              "\n",
              "  <div class=\"colab-df-container\">\n",
              "    <button class=\"colab-df-convert\" onclick=\"convertToInteractive('df-73b724f9-6025-4522-afa3-b7f8d52ea078')\"\n",
              "            title=\"Convert this dataframe to an interactive table.\"\n",
              "            style=\"display:none;\">\n",
              "\n",
              "  <svg xmlns=\"http://www.w3.org/2000/svg\" height=\"24px\" viewBox=\"0 -960 960 960\">\n",
              "    <path d=\"M120-120v-720h720v720H120Zm60-500h600v-160H180v160Zm220 220h160v-160H400v160Zm0 220h160v-160H400v160ZM180-400h160v-160H180v160Zm440 0h160v-160H620v160ZM180-180h160v-160H180v160Zm440 0h160v-160H620v160Z\"/>\n",
              "  </svg>\n",
              "    </button>\n",
              "\n",
              "  <style>\n",
              "    .colab-df-container {\n",
              "      display:flex;\n",
              "      gap: 12px;\n",
              "    }\n",
              "\n",
              "    .colab-df-convert {\n",
              "      background-color: #E8F0FE;\n",
              "      border: none;\n",
              "      border-radius: 50%;\n",
              "      cursor: pointer;\n",
              "      display: none;\n",
              "      fill: #1967D2;\n",
              "      height: 32px;\n",
              "      padding: 0 0 0 0;\n",
              "      width: 32px;\n",
              "    }\n",
              "\n",
              "    .colab-df-convert:hover {\n",
              "      background-color: #E2EBFA;\n",
              "      box-shadow: 0px 1px 2px rgba(60, 64, 67, 0.3), 0px 1px 3px 1px rgba(60, 64, 67, 0.15);\n",
              "      fill: #174EA6;\n",
              "    }\n",
              "\n",
              "    .colab-df-buttons div {\n",
              "      margin-bottom: 4px;\n",
              "    }\n",
              "\n",
              "    [theme=dark] .colab-df-convert {\n",
              "      background-color: #3B4455;\n",
              "      fill: #D2E3FC;\n",
              "    }\n",
              "\n",
              "    [theme=dark] .colab-df-convert:hover {\n",
              "      background-color: #434B5C;\n",
              "      box-shadow: 0px 1px 3px 1px rgba(0, 0, 0, 0.15);\n",
              "      filter: drop-shadow(0px 1px 2px rgba(0, 0, 0, 0.3));\n",
              "      fill: #FFFFFF;\n",
              "    }\n",
              "  </style>\n",
              "\n",
              "    <script>\n",
              "      const buttonEl =\n",
              "        document.querySelector('#df-73b724f9-6025-4522-afa3-b7f8d52ea078 button.colab-df-convert');\n",
              "      buttonEl.style.display =\n",
              "        google.colab.kernel.accessAllowed ? 'block' : 'none';\n",
              "\n",
              "      async function convertToInteractive(key) {\n",
              "        const element = document.querySelector('#df-73b724f9-6025-4522-afa3-b7f8d52ea078');\n",
              "        const dataTable =\n",
              "          await google.colab.kernel.invokeFunction('convertToInteractive',\n",
              "                                                    [key], {});\n",
              "        if (!dataTable) return;\n",
              "\n",
              "        const docLinkHtml = 'Like what you see? Visit the ' +\n",
              "          '<a target=\"_blank\" href=https://colab.research.google.com/notebooks/data_table.ipynb>data table notebook</a>'\n",
              "          + ' to learn more about interactive tables.';\n",
              "        element.innerHTML = '';\n",
              "        dataTable['output_type'] = 'display_data';\n",
              "        await google.colab.output.renderOutput(dataTable, element);\n",
              "        const docLink = document.createElement('div');\n",
              "        docLink.innerHTML = docLinkHtml;\n",
              "        element.appendChild(docLink);\n",
              "      }\n",
              "    </script>\n",
              "  </div>\n",
              "\n",
              "\n",
              "  <div id=\"id_ef50409f-3095-4c84-97db-29844d5ec014\">\n",
              "    <style>\n",
              "      .colab-df-generate {\n",
              "        background-color: #E8F0FE;\n",
              "        border: none;\n",
              "        border-radius: 50%;\n",
              "        cursor: pointer;\n",
              "        display: none;\n",
              "        fill: #1967D2;\n",
              "        height: 32px;\n",
              "        padding: 0 0 0 0;\n",
              "        width: 32px;\n",
              "      }\n",
              "\n",
              "      .colab-df-generate:hover {\n",
              "        background-color: #E2EBFA;\n",
              "        box-shadow: 0px 1px 2px rgba(60, 64, 67, 0.3), 0px 1px 3px 1px rgba(60, 64, 67, 0.15);\n",
              "        fill: #174EA6;\n",
              "      }\n",
              "\n",
              "      [theme=dark] .colab-df-generate {\n",
              "        background-color: #3B4455;\n",
              "        fill: #D2E3FC;\n",
              "      }\n",
              "\n",
              "      [theme=dark] .colab-df-generate:hover {\n",
              "        background-color: #434B5C;\n",
              "        box-shadow: 0px 1px 3px 1px rgba(0, 0, 0, 0.15);\n",
              "        filter: drop-shadow(0px 1px 2px rgba(0, 0, 0, 0.3));\n",
              "        fill: #FFFFFF;\n",
              "      }\n",
              "    </style>\n",
              "    <button class=\"colab-df-generate\" onclick=\"generateWithVariable('check')\"\n",
              "            title=\"Generate code using this dataframe.\"\n",
              "            style=\"display:none;\">\n",
              "\n",
              "  <svg xmlns=\"http://www.w3.org/2000/svg\" height=\"24px\"viewBox=\"0 0 24 24\"\n",
              "       width=\"24px\">\n",
              "    <path d=\"M7,19H8.4L18.45,9,17,7.55,7,17.6ZM5,21V16.75L18.45,3.32a2,2,0,0,1,2.83,0l1.4,1.43a1.91,1.91,0,0,1,.58,1.4,1.91,1.91,0,0,1-.58,1.4L9.25,21ZM18.45,9,17,7.55Zm-12,3A5.31,5.31,0,0,0,4.9,8.1,5.31,5.31,0,0,0,1,6.5,5.31,5.31,0,0,0,4.9,4.9,5.31,5.31,0,0,0,6.5,1,5.31,5.31,0,0,0,8.1,4.9,5.31,5.31,0,0,0,12,6.5,5.46,5.46,0,0,0,6.5,12Z\"/>\n",
              "  </svg>\n",
              "    </button>\n",
              "    <script>\n",
              "      (() => {\n",
              "      const buttonEl =\n",
              "        document.querySelector('#id_ef50409f-3095-4c84-97db-29844d5ec014 button.colab-df-generate');\n",
              "      buttonEl.style.display =\n",
              "        google.colab.kernel.accessAllowed ? 'block' : 'none';\n",
              "\n",
              "      buttonEl.onclick = () => {\n",
              "        google.colab.notebook.generateWithVariable('check');\n",
              "      }\n",
              "      })();\n",
              "    </script>\n",
              "  </div>\n",
              "\n",
              "    </div>\n",
              "  </div>\n"
            ],
            "application/vnd.google.colaboratory.intrinsic+json": {
              "type": "dataframe",
              "variable_name": "check",
              "summary": "{\n  \"name\": \"check\",\n  \"rows\": 1,\n  \"fields\": [\n    {\n      \"column\": \"id\",\n      \"properties\": {\n        \"dtype\": \"number\",\n        \"std\": null,\n        \"min\": 3690,\n        \"max\": 3690,\n        \"num_unique_values\": 1,\n        \"samples\": [\n          3690\n        ],\n        \"semantic_type\": \"\",\n        \"description\": \"\"\n      }\n    },\n    {\n      \"column\": \"url\",\n      \"properties\": {\n        \"dtype\": \"string\",\n        \"num_unique_values\": 1,\n        \"samples\": [\n          \"https://ko.wikisource.org/wiki?curid=3690\"\n        ],\n        \"semantic_type\": \"\",\n        \"description\": \"\"\n      }\n    },\n    {\n      \"column\": \"title\",\n      \"properties\": {\n        \"dtype\": \"string\",\n        \"num_unique_values\": 1,\n        \"samples\": [\n          \"\\uac15 \\uac74\\ub108\\uac04 \\ub178\\ub798\"\n        ],\n        \"semantic_type\": \"\",\n        \"description\": \"\"\n      }\n    },\n    {\n      \"column\": \"doc\",\n      \"properties\": {\n        \"dtype\": \"string\",\n        \"num_unique_values\": 1,\n        \"samples\": [\n          \"\\n\\uac15 \\uac74\\ub108\\uac04 \\ub178\\ub798\\n\\n<poem>\\n\\uc123\\ub2ec\\uc5d0\\ub3c4 \\ubcf4\\ub984\\u112d\\u1166 \\ub2ec\\ubc1c\\uadfc\\ubc24\\n\\uc555\\ub0b4\\u6c5f \\u1136\\u1162\\u11bc\\u1136\\u1162\\u11bc\\uc5b4\\ub7ec \\uc870\\uc774\\ub4e0\\ubc24\\uc5d0\\n\\ub0b4\\uac00\\ubd80\\ub978 \\ub178\\ub798\\ub294 \\u6c5f\\uac74\\ub108\\uac13\\uc18c\\n\\u6c5f\\uac74\\ub108 \\ud558\\ub298\\u112d\\u1173\\u11ba\\uc5d0 \\u6c99\\u6f20\\ub3c4 \\ub2e4\\uc740\\uacf3\\n\\ub0b4\\ub178\\ub798\\ub294 \\uc81c\\ube44\\uac00\\ud2f0 \\ub0a0\\ub7ec\\uc11c\\uac13\\uc18c\\n\\ubabb\\uc774\\uc990 \\uac8c\\uc9d1\\uc560 \\uc9d1\\uc870\\ucc28 \\uc5c5\\ub2e4\\uae30\\uc5d0\\n\\uac00\\uae30\\ub294 \\uac13\\uc9c0\\ub9cc \\uc5b4\\ub9b0\\ub0a0\\uac1c \\uc9c0\\uce58\\uba74\\n\\uadf8\\ub9cc \\uc5b4\\ub290\\ubaa8\\ub798\\ubd88\\uc5d0 \\u112f\\u1165\\ub7ec\\uc838 \\ud0c0\\uc11c\\uc8fd\\uac9f\\uc8e0\\u3002\\n\\u6c99\\u6f20\\uc740 \\u112d\\u1173\\u11ba\\uc5c5\\uc2dc \\ud478\\ub978\\ud558\\ub298\\uc774 \\ub365\\ud600\\n\\ub208\\ubb3c \\uba39\\uc740 \\ubcc4\\ub4e4\\uc774 \\uc870\\uc0c1\\uc624\\ub294\\ubc24\\n\\ubc24\\uc740\\uc61b\\uc77c\\uc744\\ubb34\\uc9c0\\uac1c \\ubcf4\\ub2e4\\uacf1\\uac8c \\u1136\\u1161\\ub0b4\\ub098\\ub2c8\\n\\ud55c\\uac00\\ub77d \\uc5ec\\uae30\\ub450\\uace0 \\u112f\\u1169\\ud55c\\uac00\\ub77d \\uc5b4\\ub370\\ub9e8\\uac00\\n\\ub0b4\\uac00\\ubd80\\ub978 \\ub178\\ub798\\ub294 \\uadf8\\ubc24\\uc5d0 \\u6c5f\\uac74\\ub108 \\uac13\\uc18c\\u3002\\n</poem>\\n\\n\"\n        ],\n        \"semantic_type\": \"\",\n        \"description\": \"\"\n      }\n    }\n  ]\n}"
            }
          },
          "metadata": {},
          "execution_count": 132
        }
      ]
    },
    {
      "cell_type": "code",
      "source": [
        "#빈 프레임 지정. 열 지정.\n",
        "text1 = pd.DataFrame(columns=['본문', '제목'])\n",
        "text1"
      ],
      "metadata": {
        "colab": {
          "base_uri": "https://localhost:8080/",
          "height": 89
        },
        "id": "M4EMV1eL21FG",
        "outputId": "020927ad-b8d4-4243-aa16-e6ca5cd00154"
      },
      "execution_count": 127,
      "outputs": [
        {
          "output_type": "execute_result",
          "data": {
            "text/plain": [
              "Empty DataFrame\n",
              "Columns: [본문, 제목]\n",
              "Index: []"
            ],
            "text/html": [
              "\n",
              "  <div id=\"df-ed6e7c1b-4abb-484e-ab8c-88b45143a570\" class=\"colab-df-container\">\n",
              "    <div>\n",
              "<style scoped>\n",
              "    .dataframe tbody tr th:only-of-type {\n",
              "        vertical-align: middle;\n",
              "    }\n",
              "\n",
              "    .dataframe tbody tr th {\n",
              "        vertical-align: top;\n",
              "    }\n",
              "\n",
              "    .dataframe thead th {\n",
              "        text-align: right;\n",
              "    }\n",
              "</style>\n",
              "<table border=\"1\" class=\"dataframe\">\n",
              "  <thead>\n",
              "    <tr style=\"text-align: right;\">\n",
              "      <th></th>\n",
              "      <th>본문</th>\n",
              "      <th>제목</th>\n",
              "    </tr>\n",
              "  </thead>\n",
              "  <tbody>\n",
              "  </tbody>\n",
              "</table>\n",
              "</div>\n",
              "    <div class=\"colab-df-buttons\">\n",
              "\n",
              "  <div class=\"colab-df-container\">\n",
              "    <button class=\"colab-df-convert\" onclick=\"convertToInteractive('df-ed6e7c1b-4abb-484e-ab8c-88b45143a570')\"\n",
              "            title=\"Convert this dataframe to an interactive table.\"\n",
              "            style=\"display:none;\">\n",
              "\n",
              "  <svg xmlns=\"http://www.w3.org/2000/svg\" height=\"24px\" viewBox=\"0 -960 960 960\">\n",
              "    <path d=\"M120-120v-720h720v720H120Zm60-500h600v-160H180v160Zm220 220h160v-160H400v160Zm0 220h160v-160H400v160ZM180-400h160v-160H180v160Zm440 0h160v-160H620v160ZM180-180h160v-160H180v160Zm440 0h160v-160H620v160Z\"/>\n",
              "  </svg>\n",
              "    </button>\n",
              "\n",
              "  <style>\n",
              "    .colab-df-container {\n",
              "      display:flex;\n",
              "      gap: 12px;\n",
              "    }\n",
              "\n",
              "    .colab-df-convert {\n",
              "      background-color: #E8F0FE;\n",
              "      border: none;\n",
              "      border-radius: 50%;\n",
              "      cursor: pointer;\n",
              "      display: none;\n",
              "      fill: #1967D2;\n",
              "      height: 32px;\n",
              "      padding: 0 0 0 0;\n",
              "      width: 32px;\n",
              "    }\n",
              "\n",
              "    .colab-df-convert:hover {\n",
              "      background-color: #E2EBFA;\n",
              "      box-shadow: 0px 1px 2px rgba(60, 64, 67, 0.3), 0px 1px 3px 1px rgba(60, 64, 67, 0.15);\n",
              "      fill: #174EA6;\n",
              "    }\n",
              "\n",
              "    .colab-df-buttons div {\n",
              "      margin-bottom: 4px;\n",
              "    }\n",
              "\n",
              "    [theme=dark] .colab-df-convert {\n",
              "      background-color: #3B4455;\n",
              "      fill: #D2E3FC;\n",
              "    }\n",
              "\n",
              "    [theme=dark] .colab-df-convert:hover {\n",
              "      background-color: #434B5C;\n",
              "      box-shadow: 0px 1px 3px 1px rgba(0, 0, 0, 0.15);\n",
              "      filter: drop-shadow(0px 1px 2px rgba(0, 0, 0, 0.3));\n",
              "      fill: #FFFFFF;\n",
              "    }\n",
              "  </style>\n",
              "\n",
              "    <script>\n",
              "      const buttonEl =\n",
              "        document.querySelector('#df-ed6e7c1b-4abb-484e-ab8c-88b45143a570 button.colab-df-convert');\n",
              "      buttonEl.style.display =\n",
              "        google.colab.kernel.accessAllowed ? 'block' : 'none';\n",
              "\n",
              "      async function convertToInteractive(key) {\n",
              "        const element = document.querySelector('#df-ed6e7c1b-4abb-484e-ab8c-88b45143a570');\n",
              "        const dataTable =\n",
              "          await google.colab.kernel.invokeFunction('convertToInteractive',\n",
              "                                                    [key], {});\n",
              "        if (!dataTable) return;\n",
              "\n",
              "        const docLinkHtml = 'Like what you see? Visit the ' +\n",
              "          '<a target=\"_blank\" href=https://colab.research.google.com/notebooks/data_table.ipynb>data table notebook</a>'\n",
              "          + ' to learn more about interactive tables.';\n",
              "        element.innerHTML = '';\n",
              "        dataTable['output_type'] = 'display_data';\n",
              "        await google.colab.output.renderOutput(dataTable, element);\n",
              "        const docLink = document.createElement('div');\n",
              "        docLink.innerHTML = docLinkHtml;\n",
              "        element.appendChild(docLink);\n",
              "      }\n",
              "    </script>\n",
              "  </div>\n",
              "\n",
              "\n",
              "  <div id=\"id_623c3171-ca2c-4bcb-b40a-ae3c4e8847e7\">\n",
              "    <style>\n",
              "      .colab-df-generate {\n",
              "        background-color: #E8F0FE;\n",
              "        border: none;\n",
              "        border-radius: 50%;\n",
              "        cursor: pointer;\n",
              "        display: none;\n",
              "        fill: #1967D2;\n",
              "        height: 32px;\n",
              "        padding: 0 0 0 0;\n",
              "        width: 32px;\n",
              "      }\n",
              "\n",
              "      .colab-df-generate:hover {\n",
              "        background-color: #E2EBFA;\n",
              "        box-shadow: 0px 1px 2px rgba(60, 64, 67, 0.3), 0px 1px 3px 1px rgba(60, 64, 67, 0.15);\n",
              "        fill: #174EA6;\n",
              "      }\n",
              "\n",
              "      [theme=dark] .colab-df-generate {\n",
              "        background-color: #3B4455;\n",
              "        fill: #D2E3FC;\n",
              "      }\n",
              "\n",
              "      [theme=dark] .colab-df-generate:hover {\n",
              "        background-color: #434B5C;\n",
              "        box-shadow: 0px 1px 3px 1px rgba(0, 0, 0, 0.15);\n",
              "        filter: drop-shadow(0px 1px 2px rgba(0, 0, 0, 0.3));\n",
              "        fill: #FFFFFF;\n",
              "      }\n",
              "    </style>\n",
              "    <button class=\"colab-df-generate\" onclick=\"generateWithVariable('text1')\"\n",
              "            title=\"Generate code using this dataframe.\"\n",
              "            style=\"display:none;\">\n",
              "\n",
              "  <svg xmlns=\"http://www.w3.org/2000/svg\" height=\"24px\"viewBox=\"0 0 24 24\"\n",
              "       width=\"24px\">\n",
              "    <path d=\"M7,19H8.4L18.45,9,17,7.55,7,17.6ZM5,21V16.75L18.45,3.32a2,2,0,0,1,2.83,0l1.4,1.43a1.91,1.91,0,0,1,.58,1.4,1.91,1.91,0,0,1-.58,1.4L9.25,21ZM18.45,9,17,7.55Zm-12,3A5.31,5.31,0,0,0,4.9,8.1,5.31,5.31,0,0,0,1,6.5,5.31,5.31,0,0,0,4.9,4.9,5.31,5.31,0,0,0,6.5,1,5.31,5.31,0,0,0,8.1,4.9,5.31,5.31,0,0,0,12,6.5,5.46,5.46,0,0,0,6.5,12Z\"/>\n",
              "  </svg>\n",
              "    </button>\n",
              "    <script>\n",
              "      (() => {\n",
              "      const buttonEl =\n",
              "        document.querySelector('#id_623c3171-ca2c-4bcb-b40a-ae3c4e8847e7 button.colab-df-generate');\n",
              "      buttonEl.style.display =\n",
              "        google.colab.kernel.accessAllowed ? 'block' : 'none';\n",
              "\n",
              "      buttonEl.onclick = () => {\n",
              "        google.colab.notebook.generateWithVariable('text1');\n",
              "      }\n",
              "      })();\n",
              "    </script>\n",
              "  </div>\n",
              "\n",
              "    </div>\n",
              "  </div>\n"
            ],
            "application/vnd.google.colaboratory.intrinsic+json": {
              "type": "dataframe",
              "variable_name": "text1",
              "repr_error": "Out of range float values are not JSON compliant: nan"
            }
          },
          "metadata": {},
          "execution_count": 127
        }
      ]
    },
    {
      "cell_type": "markdown",
      "source": [
        "### 데이터 추출 (행마다)"
      ],
      "metadata": {
        "id": "1_ogJrgGD988"
      }
    },
    {
      "cell_type": "code",
      "source": [
        "text1 = update_results_with_title(df, text1, process_getPoemLines, title, author)\n",
        "text1.iloc[-1] # 마지막줄 확인"
      ],
      "metadata": {
        "colab": {
          "base_uri": "https://localhost:8080/",
          "height": 178
        },
        "collapsed": true,
        "id": "RVVygY7aybr4",
        "outputId": "0a67147c-1744-4450-a80d-f375c3fed10b"
      },
      "execution_count": 125,
      "outputs": [
        {
          "output_type": "execute_result",
          "data": {
            "text/plain": [
              "본문    이 아름다운 詩集에 이 拙한 跋文을 부침이 또한 아름다운 인연이라고 불려지기를 가만...\n",
              "제목                                                   발문\n",
              "저자                                                  정지용\n",
              "Name: 304, dtype: object"
            ],
            "text/html": [
              "<div>\n",
              "<style scoped>\n",
              "    .dataframe tbody tr th:only-of-type {\n",
              "        vertical-align: middle;\n",
              "    }\n",
              "\n",
              "    .dataframe tbody tr th {\n",
              "        vertical-align: top;\n",
              "    }\n",
              "\n",
              "    .dataframe thead th {\n",
              "        text-align: right;\n",
              "    }\n",
              "</style>\n",
              "<table border=\"1\" class=\"dataframe\">\n",
              "  <thead>\n",
              "    <tr style=\"text-align: right;\">\n",
              "      <th></th>\n",
              "      <th>304</th>\n",
              "    </tr>\n",
              "  </thead>\n",
              "  <tbody>\n",
              "    <tr>\n",
              "      <th>본문</th>\n",
              "      <td>이 아름다운 詩集에 이 拙한 跋文을 부침이 또한 아름다운 인연이라고 불려지기를 가만...</td>\n",
              "    </tr>\n",
              "    <tr>\n",
              "      <th>제목</th>\n",
              "      <td>발문</td>\n",
              "    </tr>\n",
              "    <tr>\n",
              "      <th>저자</th>\n",
              "      <td>정지용</td>\n",
              "    </tr>\n",
              "  </tbody>\n",
              "</table>\n",
              "</div><br><label><b>dtype:</b> object</label>"
            ]
          },
          "metadata": {},
          "execution_count": 125
        }
      ]
    },
    {
      "cell_type": "markdown",
      "source": [
        "### 데이터 추출 (전체)"
      ],
      "metadata": {
        "id": "Uxh3mRXJKE7v"
      }
    },
    {
      "cell_type": "code",
      "source": [
        "text1 = update_FullTextResults_with_title(df, text1, process_getPoemFullLines, title, author)\n",
        "text1.iloc[-1] # 마지막줄 확인"
      ],
      "metadata": {
        "colab": {
          "base_uri": "https://localhost:8080/",
          "height": 178
        },
        "id": "asrl0AvvKOJ5",
        "outputId": "23f4b4ff-273b-4dae-fe88-78716c255525"
      },
      "execution_count": 128,
      "outputs": [
        {
          "output_type": "execute_result",
          "data": {
            "text/plain": [
              "본문    \\n천재 있는 詩人이 자기의 制作을 한번 지나가버린 길이오 넘어간 책장같이 여겨 그...\n",
              "제목                                            정지용 시집/발문\n",
              "저자                                                  정지용\n",
              "Name: 10, dtype: object"
            ],
            "text/html": [
              "<div>\n",
              "<style scoped>\n",
              "    .dataframe tbody tr th:only-of-type {\n",
              "        vertical-align: middle;\n",
              "    }\n",
              "\n",
              "    .dataframe tbody tr th {\n",
              "        vertical-align: top;\n",
              "    }\n",
              "\n",
              "    .dataframe thead th {\n",
              "        text-align: right;\n",
              "    }\n",
              "</style>\n",
              "<table border=\"1\" class=\"dataframe\">\n",
              "  <thead>\n",
              "    <tr style=\"text-align: right;\">\n",
              "      <th></th>\n",
              "      <th>10</th>\n",
              "    </tr>\n",
              "  </thead>\n",
              "  <tbody>\n",
              "    <tr>\n",
              "      <th>본문</th>\n",
              "      <td>\\n천재 있는 詩人이 자기의 制作을 한번 지나가버린 길이오 넘어간 책장같이 여겨 그...</td>\n",
              "    </tr>\n",
              "    <tr>\n",
              "      <th>제목</th>\n",
              "      <td>정지용 시집/발문</td>\n",
              "    </tr>\n",
              "    <tr>\n",
              "      <th>저자</th>\n",
              "      <td>정지용</td>\n",
              "    </tr>\n",
              "  </tbody>\n",
              "</table>\n",
              "</div><br><label><b>dtype:</b> object</label>"
            ]
          },
          "metadata": {},
          "execution_count": 128
        }
      ]
    },
    {
      "cell_type": "markdown",
      "source": [
        "### 엑셀로 저장"
      ],
      "metadata": {
        "id": "Dz_L60NyKZ-W"
      }
    },
    {
      "cell_type": "code",
      "source": [
        "# 엑셀로 저장하기\n",
        "text1.to_excel('위키문헌_정지용_시집_전체행.xlsx')"
      ],
      "metadata": {
        "id": "tqgY-l4R7kyh"
      },
      "execution_count": 129,
      "outputs": []
    }
  ]
}